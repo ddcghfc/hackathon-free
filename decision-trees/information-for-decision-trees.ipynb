{
 "cells": [
  {
   "cell_type": "code",
   "execution_count": 8,
   "id": "3a7a9fb6-d1d3-4209-abf2-1611e38abde2",
   "metadata": {},
   "outputs": [],
   "source": [
    "import pandas as pd\n",
    "import numpy as np"
   ]
  },
  {
   "cell_type": "code",
   "execution_count": 2,
   "id": "6477cb15-421a-4a62-91b0-c997b6ece408",
   "metadata": {},
   "outputs": [],
   "source": [
    "mlbugs = pd.read_csv('ml-bugs.csv')"
   ]
  },
  {
   "cell_type": "code",
   "execution_count": 4,
   "id": "9a5e155f-abee-4307-bacd-69fdc778d222",
   "metadata": {},
   "outputs": [
    {
     "data": {
      "text/html": [
       "<div>\n",
       "<style scoped>\n",
       "    .dataframe tbody tr th:only-of-type {\n",
       "        vertical-align: middle;\n",
       "    }\n",
       "\n",
       "    .dataframe tbody tr th {\n",
       "        vertical-align: top;\n",
       "    }\n",
       "\n",
       "    .dataframe thead th {\n",
       "        text-align: right;\n",
       "    }\n",
       "</style>\n",
       "<table border=\"1\" class=\"dataframe\">\n",
       "  <thead>\n",
       "    <tr style=\"text-align: right;\">\n",
       "      <th></th>\n",
       "      <th>Species</th>\n",
       "      <th>Color</th>\n",
       "      <th>Length (mm)</th>\n",
       "    </tr>\n",
       "  </thead>\n",
       "  <tbody>\n",
       "    <tr>\n",
       "      <th>0</th>\n",
       "      <td>Mobug</td>\n",
       "      <td>Brown</td>\n",
       "      <td>11.6</td>\n",
       "    </tr>\n",
       "    <tr>\n",
       "      <th>1</th>\n",
       "      <td>Mobug</td>\n",
       "      <td>Blue</td>\n",
       "      <td>16.3</td>\n",
       "    </tr>\n",
       "    <tr>\n",
       "      <th>2</th>\n",
       "      <td>Lobug</td>\n",
       "      <td>Blue</td>\n",
       "      <td>15.1</td>\n",
       "    </tr>\n",
       "    <tr>\n",
       "      <th>3</th>\n",
       "      <td>Lobug</td>\n",
       "      <td>Green</td>\n",
       "      <td>23.7</td>\n",
       "    </tr>\n",
       "    <tr>\n",
       "      <th>4</th>\n",
       "      <td>Lobug</td>\n",
       "      <td>Blue</td>\n",
       "      <td>18.4</td>\n",
       "    </tr>\n",
       "  </tbody>\n",
       "</table>\n",
       "</div>"
      ],
      "text/plain": [
       "  Species  Color  Length (mm)\n",
       "0   Mobug  Brown         11.6\n",
       "1   Mobug   Blue         16.3\n",
       "2   Lobug   Blue         15.1\n",
       "3   Lobug  Green         23.7\n",
       "4   Lobug   Blue         18.4"
      ]
     },
     "execution_count": 4,
     "metadata": {},
     "output_type": "execute_result"
    }
   ],
   "source": [
    "mlbugs.head()"
   ]
  },
  {
   "cell_type": "code",
   "execution_count": 17,
   "id": "f7a97443-d288-4535-8c71-3ae72bc0de1d",
   "metadata": {},
   "outputs": [],
   "source": [
    "def compute_cross_entropy(df):\n",
    "    arr = df['Species'].value_counts().values\n",
    "    total = arr.sum()\n",
    "    return -np.sum(np.multiply(arr/total, np.log2(arr/total)))\n",
    "\n",
    "def compute_information_gain(df, condition):\n",
    "    parent_entropy = compute_cross_entropy(df)\n",
    "    child1 = df[condition]\n",
    "    child2 = df[~condition]\n",
    "    child1_entropy = compute_cross_entropy(child1)\n",
    "    child2_entropy = compute_cross_entropy(child2)\n",
    "    return parent_entropy - child1.shape[0]*child1_entropy/df.shape[0] - child2.shape[0]*child2_entropy/df.shape[0]"
   ]
  },
  {
   "cell_type": "code",
   "execution_count": 23,
   "id": "92b42c86-8b42-420d-9699-b47d1b64a533",
   "metadata": {},
   "outputs": [
    {
     "name": "stdout",
     "output_type": "stream",
     "text": [
      "Parent entropy 0.9798687566511528\n"
     ]
    }
   ],
   "source": [
    "print(\"Parent entropy\", compute_cross_entropy(mlbugs))"
   ]
  },
  {
   "cell_type": "code",
   "execution_count": 22,
   "id": "638a5c2a-480d-4f8b-adaf-8cca689e2333",
   "metadata": {},
   "outputs": [
    {
     "data": {
      "text/plain": [
       "0.10073322588651734"
      ]
     },
     "execution_count": 22,
     "metadata": {},
     "output_type": "execute_result"
    }
   ],
   "source": [
    "compute_information_gain(mlbugs, mlbugs['Length (mm)']<20)"
   ]
  },
  {
   "cell_type": "code",
   "execution_count": 24,
   "id": "ba3972ac-934e-431c-8223-71a74bc558a8",
   "metadata": {},
   "outputs": [
    {
     "data": {
      "text/plain": [
       "0.11260735516748976"
      ]
     },
     "execution_count": 24,
     "metadata": {},
     "output_type": "execute_result"
    }
   ],
   "source": [
    "compute_information_gain(mlbugs, mlbugs['Length (mm)']<17)"
   ]
  },
  {
   "cell_type": "code",
   "execution_count": 25,
   "id": "507c5c7f-d036-42ba-ab62-e21f73837bbf",
   "metadata": {},
   "outputs": [
    {
     "data": {
      "text/plain": [
       "0.06157292259666325"
      ]
     },
     "execution_count": 25,
     "metadata": {},
     "output_type": "execute_result"
    }
   ],
   "source": [
    "compute_information_gain(mlbugs, mlbugs['Color']=='Brown')"
   ]
  },
  {
   "cell_type": "code",
   "execution_count": 26,
   "id": "bd26b4eb-aa40-40c7-9afb-adca61e08db5",
   "metadata": {},
   "outputs": [
    {
     "data": {
      "text/plain": [
       "0.042776048498108565"
      ]
     },
     "execution_count": 26,
     "metadata": {},
     "output_type": "execute_result"
    }
   ],
   "source": [
    "compute_information_gain(mlbugs, mlbugs['Color']=='Green')"
   ]
  },
  {
   "cell_type": "code",
   "execution_count": null,
   "id": "b25f72fb-764e-4d59-9d84-74eaedf11e56",
   "metadata": {},
   "outputs": [],
   "source": []
  }
 ],
 "metadata": {
  "kernelspec": {
   "display_name": "Python 3 (ipykernel)",
   "language": "python",
   "name": "python3"
  },
  "language_info": {
   "codemirror_mode": {
    "name": "ipython",
    "version": 3
   },
   "file_extension": ".py",
   "mimetype": "text/x-python",
   "name": "python",
   "nbconvert_exporter": "python",
   "pygments_lexer": "ipython3",
   "version": "3.9.5"
  }
 },
 "nbformat": 4,
 "nbformat_minor": 5
}
