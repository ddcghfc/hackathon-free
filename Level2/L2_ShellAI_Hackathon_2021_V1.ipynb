{
  "cells": [
    {
      "cell_type": "markdown",
      "metadata": {},
      "source": [
        "<a href=\"https://colab.research.google.com/github/dd-open-source/ml-projects/blob/main/shell-ai-hackathon-weather-data/Level2/L2_ShellAI_Hackathon_2021_V1.ipynb\" target=\"_parent\"><img src=\"https://colab.research.google.com/assets/colab-badge.svg\" alt=\"Open In Colab\"/></a>"
      ]
    },
    {
      "cell_type": "markdown",
      "metadata": {
        "id": "CRNAHcg5OcNR"
      },
      "source": [
        "Python modules used for the hackathon."
      ]
    },
    {
      "cell_type": "code",
      "execution_count": 1,
      "metadata": {
        "id": "vx6aI3f5NIzi",
        "scrolled": true
      },
      "outputs": [],
      "source": [
        "# !pip install pandas\n",
        "# !pip install numpy\n",
        "# !pip install sklearn\n",
        "# !pip install matplotlib\n",
        "# !pip install --upgrade pip\n",
        "# !pip install graphviz\n"
      ]
    },
    {
      "cell_type": "code",
      "execution_count": 2,
      "metadata": {
        "colab": {
          "base_uri": "https://localhost:8080/"
        },
        "id": "CLXLoYImQMyi",
        "outputId": "aa8460f3-b753-4073-a4a6-92496d83e861"
      },
      "outputs": [
        {
          "name": "stdout",
          "output_type": "stream",
          "text": [
            "Drive already mounted at /content/drive; to attempt to forcibly remount, call drive.mount(\"/content/drive\", force_remount=True).\n"
          ]
        }
      ],
      "source": [
        "from google.colab import drive\n",
        "drive.mount('/content/drive')"
      ]
    },
    {
      "cell_type": "code",
      "execution_count": 3,
      "metadata": {
        "id": "zSNgVgg8Pis0"
      },
      "outputs": [],
      "source": [
        "import os\n",
        "import datetime\n",
        "import re\n",
        "\n",
        "import IPython\n",
        "import IPython.display\n",
        "from IPython.display import clear_output\n",
        "\n",
        "import matplotlib.pyplot as plt\n",
        "import numpy as np\n",
        "import pandas as pd\n",
        "import tensorflow as tf\n",
        "from tensorflow import keras\n",
        "\n",
        "from sklearn.model_selection import train_test_split\n",
        "from sklearn.feature_selection import mutual_info_regression\n",
        "from sklearn.metrics import mean_absolute_error, silhouette_score\n",
        "from scipy.stats import zscore\n",
        "from sklearn.preprocessing import StandardScaler, MinMaxScaler\n",
        "from sklearn.cluster import KMeans\n",
        "from scipy.special import softmax\n",
        "\n",
        "import warnings\n",
        "warnings.filterwarnings('ignore')"
      ]
    },
    {
      "cell_type": "markdown",
      "metadata": {
        "id": "Xe6TfNdd7Lx9"
      },
      "source": [
        "Define commonally used variables"
      ]
    },
    {
      "cell_type": "code",
      "execution_count": 4,
      "metadata": {
        "id": "2L9H4NLzrbvE"
      },
      "outputs": [],
      "source": [
        "data_path = '/content/drive/MyDrive/ML_Projects/shell-ai-data-l2'\n",
        "training_data_key = 'Data_Train'\n",
        "testing_data_key = 'Data_Test'\n",
        "\n",
        "# Training csv file: https://drive.google.com/file/d/1C7NuAI1i48y6GYoP4C0_7F4exC0TNdSP/view\n",
        "# Testing csv file: https://drive.google.com/file/d/1MKRijjGs35uVTYAl4YFLcVV9ODb_5X97/view\n",
        "training_path = os.path.join(data_path, training_data_key)\n",
        "testing_path = os.path.join(data_path, testing_data_key)\n",
        "\n",
        "# Image file links:\n",
        "# 40x40_Projection: https://drive.google.com/file/d/1QWZwB0SDkiAH8ucNh9oaMibqqxZj7Nm0/view\n",
        "# 40x40_Raw: https://drive.google.com/file/d/1C6s7satgiNK4bE6XWhSGOm2tusM_DKt5/view\n",
        "# Please download and keep in your drive\n",
        "\n",
        "img_kind = \"Projection\"\n",
        "img_x = img_y = 40\n",
        "imgs_npy_path = '{}/Images/{}x{}_{}.npy'.format(data_path, img_x, img_y, img_kind)\n",
        "\n",
        "training_csv_path = os.path.join(training_path, 'weather_data.csv')\n",
        "testing_csv_path = os.path.join(testing_path, 'weather_data.csv')\n",
        "\n",
        "target_col = 'Global CMP22 (vent/cor) [W/m^2]'\n",
        "date_col = 'DATE (YYYY/MM/DD)_MST'\n",
        "scenario_set_col = 'scenario_set'\n",
        "img_path_col = 'img_path'\n",
        "img_index_col = 'img_index'\n",
        "img_unavailable = -100\n",
        "\n",
        "img_time_sine_col = 'Img Day sin'\n",
        "img_time_cos_col = 'Img Day cos'\n",
        "year_sine_col = 'Year sin'\n",
        "year_cos_col = 'Year cos'\n",
        "day_sine_col = 'Day sin'\n",
        "day_cos_col = 'Day cos'\n",
        "target_day_sine_col = 'Target Day sin'\n",
        "target_day_cos_col = 'Target Day cos'\n",
        "is_train_col = 'is_train'\n",
        "\n",
        "target_date_cols = [target_day_sine_col, target_day_cos_col]\n",
        "INPUT_STEPS = 12\n",
        "SAMPLING_RATE = 10\n",
        "\n",
        "OUTPUT_STEPS = 12\n",
        "\n",
        "IMG_DELAY_TOLERANCE = 3\n",
        "\n",
        "cloud_coverage_col = 'Total Cloud Cover [%]'\n",
        "precipitation_col = 'Precipitation (Accumulated) [mm]'\n",
        "moisture_col = 'Moisture'\n",
        "\n",
        "feature_cols_for_outliers = [target_col, 'Direct sNIP [W/m^2]', 'Azimuth Angle [degrees]',\n",
        "       'Tower Dry Bulb Temp [deg C]', 'Tower Wet Bulb Temp [deg C]',\n",
        "       'Tower Dew Point Temp [deg C]', 'Tower RH [%]', cloud_coverage_col,\n",
        "       'Peak Wind Speed @ 6ft [m/s]', 'Avg Wind Direction @ 6ft [deg from N]',\n",
        "       'Station Pressure [mBar]', precipitation_col,\n",
        "       'Snow Depth [cm]', moisture_col, 'Albedo (CMP11)']\n",
        "\n",
        "non_neg_feature_cols = [target_col, 'Direct sNIP [W/m^2]', cloud_coverage_col ]\n",
        "\n",
        "time_series_cols = [target_col, 'Direct sNIP [W/m^2]', 'Tower Dry Bulb Temp [deg C]',\n",
        "       'Tower Wet Bulb Temp [deg C]', 'Tower Dew Point Temp [deg C]',\n",
        "       'Tower RH [%]', cloud_coverage_col, 'Station Pressure [mBar]',\n",
        "        'Snow Depth [cm]', 'Albedo (CMP11)', precipitation_col,\n",
        "        'Wind x','Wind y', 'Azimuth sin', moisture_col,\n",
        "        'Azimuth cos', day_sine_col, day_cos_col, year_sine_col, year_cos_col]\n",
        "\n",
        "\n",
        "img_cols = [img_index_col, img_time_sine_col, img_time_cos_col]\n",
        "\n",
        "feature_cols_for_prepare = time_series_cols + [img_index_col]\n",
        "day_start_idx_col = 'day_start_idx'\n",
        "feature_start_idx_col = 'feature_start_idx'\n",
        "feature_steps_col = 'feature_steps'\n",
        "feature_end_idx_col = 'feature_end_idx'\n",
        "total_end_idx_col = 'total_end_idx'\n",
        "cluster_col = 'cluster'\n",
        "index_col = 'index'\n",
        "\n",
        "idx_df_cols = [cluster_col, scenario_set_col, index_col, day_start_idx_col, feature_start_idx_col, \n",
        "                  feature_end_idx_col, total_end_idx_col, feature_steps_col]\n",
        "\n",
        "cluster_idx = idx_df_cols.index(cluster_col)\n",
        "day_start_idx = idx_df_cols.index(day_start_idx_col)\n",
        "feature_start_idx = idx_df_cols.index(feature_start_idx_col)\n",
        "feature_end_idx = idx_df_cols.index(feature_end_idx_col)\n",
        "total_end_idx = idx_df_cols.index(total_end_idx_col)\n",
        "\n",
        "pred_df_cols = ['{}_min_horizon'.format(p) for p in range(10, 130, 10)]"
      ]
    },
    {
      "cell_type": "code",
      "execution_count": 5,
      "metadata": {
        "id": "xp8fb0i6NIzo"
      },
      "outputs": [],
      "source": [
        "# Converts timestamp series to sine and cos series to capture cyclic nature in the time\n",
        "def convert_time_stamp_to_vector(timestamps, freq='day'):\n",
        "    if freq == 'day':\n",
        "        divisor = 24*60*60\n",
        "    elif freq == 'year':\n",
        "        divisor = (365.2425)*(24*60*60)\n",
        "    else: \n",
        "        raise Exception('Frequency not supported')\n",
        "        \n",
        "    timestamp_s = (timestamps - pd.Timestamp(\"2010-01-01\")).dt.total_seconds()\n",
        "    sine_series = np.sin(timestamp_s * (2 * np.pi / divisor))\n",
        "    cos_series = np.cos(timestamp_s * (2 * np.pi / divisor))\n",
        "    return sine_series, cos_series\n",
        "    "
      ]
    },
    {
      "cell_type": "markdown",
      "metadata": {
        "id": "InYfCuj0NIzp"
      },
      "source": [
        "Prepare images"
      ]
    },
    {
      "cell_type": "code",
      "execution_count": 6,
      "metadata": {
        "id": "GK08u6fzNIzq"
      },
      "outputs": [],
      "source": [
        "with open(imgs_npy_path, 'rb') as f:\n",
        "    all_images = np.divide(np.load(f).reshape(-1, img_x, img_y, 3), 255)\n",
        "    all_image_paths = np.load(f)\n",
        "all_images_tensor = tf.constant(all_images, dtype=tf.float32)\n",
        "\n",
        "def prepare_img_df(img_paths_arr):\n",
        "    img_df = pd.DataFrame()\n",
        "    img_df[img_path_col] = img_paths_arr\n",
        "    img_df[img_index_col] = list(range(img_paths_arr.shape[0]))\n",
        "    img_date_extractor_fn = (lambda img_path: re.search(r\"\\d+\", img_path.split('-')[-1]).group())\n",
        "    img_src_extractor_fn = (lambda img_path: str(img_path).split('-')[0])\n",
        "    img_df[date_col] = pd.to_datetime(img_df[img_path_col].apply(img_date_extractor_fn), format=\"%Y%m%d%H%M%S\")\n",
        "    img_df['src'] = img_df[img_path_col].apply(img_src_extractor_fn)\n",
        "    img_df = img_df[~img_df[date_col].duplicated(keep='first')]\n",
        "    img_df[img_time_sine_col], img_df[img_time_cos_col] = convert_time_stamp_to_vector(img_df[date_col], \n",
        "                                                                                       freq='day')\n",
        "    return img_df\n",
        "\n",
        "all_image_info_df = prepare_img_df(all_image_paths)\n",
        "train_image_paths_df = all_image_info_df[all_image_info_df['src'] == training_data_key].reset_index(drop=True)\n",
        "test_image_paths_df = all_image_info_df[all_image_info_df['src'] == testing_data_key].reset_index(drop=True)\n",
        "clear_output()"
      ]
    },
    {
      "cell_type": "markdown",
      "metadata": {
        "id": "jiYDsjT9PulL"
      },
      "source": [
        "Read train and test datasets and convert to pandas Dataframes.\n"
      ]
    },
    {
      "cell_type": "code",
      "execution_count": 7,
      "metadata": {
        "id": "c0e-0vkyP5gZ"
      },
      "outputs": [],
      "source": [
        "train_df = pd.read_csv(training_csv_path, parse_dates=[[0,1]])\n",
        "test_df = pd.read_csv(testing_csv_path, parse_dates=[[0,1]])\n",
        "train_df[scenario_set_col] = train_df[date_col].dt.strftime('%Y%m%d').astype(int)\n",
        "train_df[is_train_col] = True\n",
        "test_df[is_train_col] = False"
      ]
    },
    {
      "cell_type": "markdown",
      "metadata": {
        "id": "OkFFTGFFSq12"
      },
      "source": [
        "Calculate z-scores and remove outliers. Resample and remove night time values as we are predicting for day time only."
      ]
    },
    {
      "cell_type": "code",
      "execution_count": 8,
      "metadata": {
        "id": "ISkEGoQxeqm4"
      },
      "outputs": [],
      "source": [
        "def fill_outliers(df, features):\n",
        "    for col in features:\n",
        "        z_scores = np.abs(zscore(df[col])) > 3\n",
        "        df.at[z_scores, col] = np.nan\n",
        "    return df\n",
        "\n",
        "def fill_na(df, axis=None):\n",
        "    df = df.fillna(method='ffill', axis=axis)\n",
        "    df = df.fillna(method='bfill', axis=axis)\n",
        "    df = df.fillna(0)\n",
        "    return df\n",
        "        \n",
        "def fill_non_neg_feature_cols(df, feature_cols):\n",
        "    for non_neg_feature_col in feature_cols:\n",
        "        neg_values =  df[non_neg_feature_col] < 0\n",
        "        df.at[neg_values, non_neg_feature_col] = np.nan\n",
        "        df[non_neg_feature_col] = fill_na(df[non_neg_feature_col])\n",
        "    return df\n",
        "\n",
        "def resample_groupwise(df, groupby=scenario_set_col, rule='{}T'.format(SAMPLING_RATE), agg='mean'):\n",
        "    new_dfs = []\n",
        "    for group_key, sub_df in df.groupby(groupby):\n",
        "        sub_df = sub_df.set_index(date_col).resample(rule).agg(agg).reset_index()\n",
        "        sub_df[groupby] = group_key\n",
        "        new_dfs.append(sub_df)\n",
        "    return pd.concat(new_dfs, axis=0).reset_index(drop=True)\n",
        "\n",
        "def perform_cleanup(df):\n",
        "    valid_indices = df.index[df[target_col] >= 0]\n",
        "    min_valid = min(valid_indices)\n",
        "    max_valid = max(valid_indices)  \n",
        "    df = df.loc[min_valid:max_valid]\n",
        "    df[feature_cols_for_outliers] = fill_na(df[feature_cols_for_outliers])\n",
        "    df = fill_non_neg_feature_cols(df, non_neg_feature_cols) \n",
        "    return df.reset_index(drop=True)\n",
        "\n",
        "def fill_na_groupwise(df, groupby=scenario_set_col):\n",
        "    new_dfs = []\n",
        "    for group_key, sub_df in df.groupby(groupby):\n",
        "        sub_df = sub_df.sort_values(date_col).reset_index(drop=True)\n",
        "        sub_df = perform_cleanup(sub_df)\n",
        "        sub_df = sub_df.set_index(date_col)\n",
        "        sub_df_target = sub_df[[target_col]].copy()\n",
        "        sub_df = sub_df.resample(pd.Timedelta(minutes=SAMPLING_RATE)).mean().reset_index()\n",
        "        sub_df_target = sub_df_target.resample('{}T'.format(SAMPLING_RATE)).last().reset_index()\n",
        "        sub_df[target_col] = sub_df_target[[target_col]]\n",
        "        new_dfs.append(sub_df)\n",
        "    new_df = pd.concat(new_dfs, axis=0).reset_index(drop=True)\n",
        "    return new_df\n"
      ]
    },
    {
      "cell_type": "markdown",
      "metadata": {
        "id": "LQsqhxOrQZxf"
      },
      "source": [
        "**perform_preprocessing** does the following feature Engineering steps: \n",
        "* Converted wind speed into wind velocity vector (velocity along x and y axes)\n",
        "* Converted Azimuth angle in agree to sin and cos values as they better captures the cyclic nature.\n",
        "* Used Forward-Fill (ffill method in pandas) to fill the missing values in target column.\n",
        "* Convert date to cyclic features to capture seasons"
      ]
    },
    {
      "cell_type": "code",
      "execution_count": 9,
      "metadata": {
        "id": "lmzRw_peQABg"
      },
      "outputs": [],
      "source": [
        "def perform_preprocessing(df,img_df, img_delay_tolerance_duration):\n",
        "    peak_wind_speed_col = 'Peak Wind Speed @ 6ft [m/s]'\n",
        "    avg_wind_dir_col = 'Avg Wind Direction @ 6ft [deg from N]'\n",
        "    azimuth_angle_col = 'Azimuth Angle [degrees]'\n",
        "\n",
        "    wind_speed = pd.Series(df.pop(peak_wind_speed_col))\n",
        "    bad_wv = wind_speed < 0\n",
        "    wind_speed[bad_wv] = 0.0\n",
        "    wind_angle = df.pop(avg_wind_dir_col)*np.pi / 180\n",
        "\n",
        "    df['Wind x'] = wind_speed*np.cos(wind_angle)\n",
        "    df['Wind y'] = wind_speed*np.sin(wind_angle)\n",
        "\n",
        "    azimuth_angle = df.pop(azimuth_angle_col) * np.pi/180\n",
        "    df['Azimuth sin'] = np.sin(azimuth_angle)\n",
        "    df['Azimuth cos'] = np.cos(azimuth_angle)\n",
        "\n",
        "    day = 24*60*60\n",
        "    year = (365.2425)*day\n",
        "\n",
        "    df = df.join(img_df.set_index(date_col)[img_cols], how='left', on=date_col)\n",
        "    df[img_cols] = df[img_cols].fillna(method='ffill', limit=img_delay_tolerance_duration)\n",
        "    df[img_cols] = df[img_cols].fillna(img_unavailable)\n",
        "    df[[scenario_set_col, img_index_col]] = df[[scenario_set_col, img_index_col]].astype(np.int32)\n",
        "\n",
        "    df[day_sine_col], df[day_cos_col] = convert_time_stamp_to_vector(df[date_col], freq='day')\n",
        "    target_dates = df[date_col] + pd.Timedelta(minutes=INPUT_STEPS*SAMPLING_RATE)\n",
        "    df[target_day_sine_col], df[target_day_cos_col] = convert_time_stamp_to_vector(target_dates, freq='day')\n",
        "    df[year_sine_col], df[year_cos_col] = convert_time_stamp_to_vector(df[date_col], freq='year')\n",
        "    \n",
        "    df = df.drop(columns=[is_train_col])\n",
        "    return df\n"
      ]
    },
    {
      "cell_type": "markdown",
      "metadata": {
        "id": "Zn5ky_pdkH2z"
      },
      "source": [
        "Remove outliers and negative values and preprocess data"
      ]
    },
    {
      "cell_type": "code",
      "execution_count": 10,
      "metadata": {
        "colab": {
          "base_uri": "https://localhost:8080/"
        },
        "id": "98_QFt3kc_6R",
        "outputId": "7087605e-897e-4c59-db8e-78b98dcce5b5"
      },
      "outputs": [
        {
          "name": "stdout",
          "output_type": "stream",
          "text": [
            "After clearing outliers (527040, 18) (28091, 18) (110000, 18) (11269, 18)\n",
            "After perform_preprocessing (28091, 27) (11269, 27)\n"
          ]
        }
      ],
      "source": [
        "clean_df = pd.concat([train_df, test_df], axis=0).reset_index(drop=True)\n",
        "clean_df = fill_outliers(clean_df, feature_cols_for_outliers)\n",
        "train_df_cleaned = clean_df[clean_df[is_train_col]].reset_index(drop=True)\n",
        "train_df_cleaned = fill_na_groupwise(train_df_cleaned, scenario_set_col)\n",
        "test_df_cleaned = clean_df[~clean_df[is_train_col]].reset_index(drop=True)\n",
        "test_df_cleaned = fill_na_groupwise(test_df_cleaned, scenario_set_col)\n",
        "print(\"After clearing outliers\", train_df.shape, train_df_cleaned.shape, test_df.shape, test_df_cleaned.shape)\n",
        "del(clean_df)\n",
        "train_df_cleaned = perform_preprocessing(train_df_cleaned, train_image_paths_df, IMG_DELAY_TOLERANCE*SAMPLING_RATE)\n",
        "test_df_cleaned = perform_preprocessing(test_df_cleaned, test_image_paths_df, IMG_DELAY_TOLERANCE*SAMPLING_RATE)\n",
        "print(\"After perform_preprocessing\", train_df_cleaned.shape, test_df_cleaned.shape)"
      ]
    },
    {
      "cell_type": "markdown",
      "metadata": {
        "id": "JwO_7qpuNIzy"
      },
      "source": [
        "### Clustering"
      ]
    },
    {
      "cell_type": "code",
      "execution_count": 11,
      "metadata": {
        "colab": {
          "base_uri": "https://localhost:8080/"
        },
        "id": "fVdfsNnQNIzy",
        "outputId": "4e9db1f7-7622-425b-cfbc-190ec6dca546"
      },
      "outputs": [
        {
          "name": "stdout",
          "output_type": "stream",
          "text": [
            "After clustering (28091, 28) (11269, 28)\n",
            "Train\n",
            " 3    8478\n",
            "1    7667\n",
            "2    6276\n",
            "0    5670\n",
            "Name: cluster, dtype: int64 \n",
            "Test\n",
            " 1    4414\n",
            "3    3005\n",
            "2    2232\n",
            "0    1618\n",
            "Name: cluster, dtype: int64\n"
          ]
        }
      ],
      "source": [
        "num_clusters=4\n",
        "cluster_cols = [target_col, year_sine_col, year_cos_col]\n",
        "train_df_agg = train_df_cleaned.groupby(scenario_set_col).mean()\n",
        "test_df_agg = test_df_cleaned.groupby(scenario_set_col).mean()\n",
        "\n",
        "def apply_kmeans_clustering():\n",
        "    cluster_scaler = StandardScaler()\n",
        "    train_df_agg_scaled = cluster_scaler.fit_transform(train_df_agg[cluster_cols])\n",
        "    test_df_agg_scaled = cluster_scaler.transform(test_df_agg[cluster_cols])\n",
        "\n",
        "    kmeans = KMeans(n_clusters=num_clusters)\n",
        "    train_df_agg[cluster_col] = kmeans.fit_predict(train_df_agg_scaled)\n",
        "    test_df_agg[cluster_col] = kmeans.predict(test_df_agg_scaled)\n",
        "    \n",
        "def apply_date_based_clustering():\n",
        "    def map_to_cluster(month):\n",
        "        if month < 4 or month > 9:\n",
        "            return 0\n",
        "        else:\n",
        "            return 1\n",
        "    train_df_agg[cluster_col] = train_df_agg[date_col].dt.month.apply(map_to_cluster)\n",
        "    test_df_agg[cluster_col] = test_df_agg[date_col].dt.month.apply(map_to_cluster)\n",
        "\n",
        "apply_kmeans_clustering()\n",
        "\n",
        "train_df_agg = train_df_agg.reset_index()\n",
        "test_df_agg = test_df_agg.reset_index()\n",
        "train_df_cleaned[cluster_col] = pd.merge(train_df_cleaned[[scenario_set_col]], train_df_agg[[scenario_set_col, cluster_col]], \n",
        "                                   how='left', on=scenario_set_col)[cluster_col]\n",
        "test_df_cleaned[cluster_col] = pd.merge(test_df_cleaned[[scenario_set_col]], test_df_agg[[scenario_set_col, cluster_col]], \n",
        "                                   how='left', on=scenario_set_col)[cluster_col]\n",
        "print(\"After clustering\", train_df_cleaned.shape, test_df_cleaned.shape)\n",
        "print(\"Train\\n\", train_df_cleaned[cluster_col].value_counts(),\"\\nTest\\n\", test_df_cleaned[cluster_col].value_counts())"
      ]
    },
    {
      "cell_type": "markdown",
      "metadata": {
        "id": "_gA6SG0DOsJC"
      },
      "source": [
        "Relation between features and target"
      ]
    },
    {
      "cell_type": "code",
      "execution_count": 12,
      "metadata": {
        "id": "mghk-pnRK_LS"
      },
      "outputs": [],
      "source": [
        "# Mutual information scores\n",
        "# def make_mi_scores(X, y):\n",
        "#     mi_scores = mutual_info_regression(X, y)\n",
        "#     mi_scores = pd.Series(mi_scores, name=\"MI Scores\", index=X.columns)\n",
        "#     mi_scores = mi_scores.sort_values(ascending=False)\n",
        "#     return mi_scores\n",
        "\n",
        "# print(\"Train df:\\n\", make_mi_scores(train_df_cleaned.loc[:, feature_cols], train_df_cleaned[target_col]))\n",
        "# print(\"Test df:\\n\", make_mi_scores(test_df_cleaned.loc[:, feature_cols], test_df_cleaned[target_col]))"
      ]
    },
    {
      "cell_type": "markdown",
      "metadata": {
        "id": "gBKLqSK6VrIt"
      },
      "source": [
        "**prepare_dfs_for_datasets** groups dataset by date/scenario and creates train and test datasets using helper functions.\n",
        "* We are grouping dataset by date so that data is not combined across different dates as we need to predict using data within a day in the test set. \n",
        "* We are preparing a dataframe contain indexes like feature start, feature end, target end (total end) etc. This is later used to create tensorflow datasets."
      ]
    },
    {
      "cell_type": "code",
      "execution_count": 13,
      "metadata": {
        "id": "brMQ4c74NIz1"
      },
      "outputs": [],
      "source": [
        "def prepare_index_rages(day_index_start, day_index_end, min_feature_steps,\n",
        "                        max_feature_steps, target_steps):\n",
        "    total_end_range = np.arange(day_index_start+min_feature_steps+target_steps, day_index_end+1).reshape(-1,1)\n",
        "    feature_end_range = total_end_range - target_steps\n",
        "    steps_to_generate = np.arange(min_feature_steps, max_feature_steps+1, 3).reshape(1, -1)\n",
        "    feature_start_range = np.subtract(feature_end_range, steps_to_generate)\n",
        "    feature_start_range[feature_start_range<day_index_start]=day_index_start\n",
        "    feature_start_range = feature_start_range.min(axis=1, keepdims=True)\n",
        "    feature_steps_range = feature_end_range - feature_start_range\n",
        "    return np.hstack((feature_start_range, feature_end_range, total_end_range, feature_steps_range))\n",
        "\n",
        "def filter_data_with_images(df_img, df_idx):\n",
        "    def images_available(row):\n",
        "        feature_start = int(row[feature_start_idx_col])\n",
        "        feature_end = int(row[feature_end_idx_col])\n",
        "        return df_img.loc[feature_end, img_index_col]!=img_unavailable\n",
        "    images_indexes_mask = df_idx.apply(images_available, axis=1)\n",
        "    return df_idx[images_indexes_mask].reset_index()\n",
        "\n",
        "def prepare_dfs_for_datasets(combined_df, selected_scenarios, min_feature_steps=INPUT_STEPS, \n",
        "                             max_feature_steps=INPUT_STEPS, target_steps=OUTPUT_STEPS):\n",
        "    data_df = combined_df\n",
        "    if selected_scenarios is not None:\n",
        "        data_df = combined_df[combined_df[scenario_set_col].isin(selected_scenarios)].reset_index(drop=True)\n",
        "    idx_dfs = []\n",
        "\n",
        "    for group_key, df in data_df.groupby(scenario_set_col):\n",
        "        df = df.sort_values(date_col)\n",
        "        # As range is exclusive of last element, we need to add 1 to df.index[-1], to make it inclusive\n",
        "        idx_ranges = prepare_index_rages(df.index[0], df.index[-1], min_feature_steps, \n",
        "                                         max_feature_steps, target_steps)\n",
        "        if len(idx_ranges) > 0:\n",
        "            idx_df = pd.DataFrame(idx_ranges, columns=[feature_start_idx_col, feature_end_idx_col,\n",
        "                                                       total_end_idx_col, feature_steps_col])\n",
        "            idx_df[cluster_col] = df.loc[df.index[0], cluster_col]\n",
        "            idx_df[day_start_idx_col] = df.index[0]\n",
        "            idx_df[scenario_set_col] = group_key\n",
        "\n",
        "            idx_dfs.append(idx_df)\n",
        "\n",
        "    df_idx = pd.concat(idx_dfs, axis=0).reset_index(drop=True)\n",
        "    df_idx = filter_data_with_images(data_df[[img_index_col]], df_idx)\n",
        "    df_idx[index_col] = df_idx.index\n",
        "    data_df = data_df.set_index(date_col)\n",
        "    return data_df, df_idx[idx_df_cols]\n",
        "\n",
        "def compute_target_std_for_input_duration(df_target, df_idx):\n",
        "    def compute_target_std(row):\n",
        "        feature_start = int(row[feature_start_idx_col])\n",
        "        feature_end = int(row[feature_end_idx_col])\n",
        "        return df_target[feature_start:feature_end].std()\n",
        "    return df_idx.apply(compute_target_std, axis=1)\n",
        "\n",
        "def boosting_data_based_target_std(data_df, idx_df, factor=0.2):\n",
        "    target_std = compute_target_std_for_input_duration(train_data_df[target_col], train_idx_df)\n",
        "    probabilities = softmax(np.divide(target_std, np.max(target_std)))\n",
        "    final_indexes = train_idx_df.index.values\n",
        "    boosted_indexes = np.random.choice(probabilities.shape[0], int(probabilities.shape[0]*factor), p=probabilities)\n",
        "    final_indexes = np.append(final_indexes, boosted_indexes)\n",
        "    return idx_df.loc[final_indexes].reset_index(drop=True)\n",
        "    "
      ]
    },
    {
      "cell_type": "code",
      "execution_count": 14,
      "metadata": {
        "colab": {
          "base_uri": "https://localhost:8080/"
        },
        "id": "pZBfotkBNIz2",
        "outputId": "796bd44d-6990-4b78-8244-3ee1ca50278c",
        "scrolled": true
      },
      "outputs": [
        {
          "name": "stdout",
          "output_type": "stream",
          "text": [
            "scenarios 486 90 90\n",
            "train (32732, 27) (32732, 24) (20566, 8) (26735, 8)\n",
            "val (3411, 27) (3411, 24) (1343, 8)\n",
            "test (3217, 27) (3217, 24) (1139, 8)\n"
          ]
        }
      ],
      "source": [
        "train_df_scenarios = train_df_cleaned[scenario_set_col].unique()\n",
        "test_df_scenarios = test_df_cleaned[scenario_set_col].unique()\n",
        "test_size = 0.3\n",
        "other_scenarios, val_scenarios = train_test_split(test_df_scenarios, test_size=test_size)\n",
        "other_scenarios, test_scenarios = train_test_split(other_scenarios, test_size=test_size/(1-test_size))\n",
        "train_scenarios = np.append(train_df_scenarios, other_scenarios) \n",
        "\n",
        "print(\"scenarios\", len(train_scenarios), len(val_scenarios), len(test_scenarios))\n",
        "\n",
        "combined_df = pd.concat([train_df_cleaned, test_df_cleaned], axis=0).reset_index(drop=True)\n",
        "train_data_df, train_idx_df = prepare_dfs_for_datasets(combined_df, train_scenarios)\n",
        "val_data_df, val_idx_df = prepare_dfs_for_datasets(test_df_cleaned, val_scenarios)\n",
        "test_data_df, test_idx_df = prepare_dfs_for_datasets(test_df_cleaned, test_scenarios)\n",
        "\n",
        "train_idx_df_boosted = boosting_data_based_target_std(train_data_df, train_idx_df, factor=0.3)\n",
        "train_idx_df_boosted = train_idx_df_boosted.sample(frac=1.0).reset_index(drop=True)\n",
        "\n",
        "train_idx_df_boosted[index_col] = train_idx_df_boosted.index\n",
        "val_idx_df[index_col] = val_idx_df.index\n",
        "test_idx_df[index_col] = test_idx_df.index\n",
        "\n",
        "ts_scaler = MinMaxScaler()\n",
        "scaled_column_types = ['float16', 'float32', 'float64']\n",
        "scaled_columns = list(train_data_df.select_dtypes(include=scaled_column_types).columns)\n",
        "\n",
        "ts_scaler.fit(train_data_df[scaled_columns])\n",
        "train_data_df_scaled = pd.DataFrame(ts_scaler.transform(train_data_df[scaled_columns]), columns=scaled_columns)\n",
        "val_data_df_scaled = pd.DataFrame(ts_scaler.transform(val_data_df[scaled_columns]), columns=scaled_columns)\n",
        "test_data_df_scaled = pd.DataFrame(ts_scaler.transform(test_data_df[scaled_columns]), columns=scaled_columns)\n",
        "\n",
        "print(\"train\", train_data_df.shape, train_data_df_scaled.shape, train_idx_df.shape, train_idx_df_boosted.shape)\n",
        "print(\"val\", val_data_df.shape, val_data_df_scaled.shape, val_idx_df.shape)\n",
        "print(\"test\", test_data_df.shape, test_data_df_scaled.shape, test_idx_df.shape)\n"
      ]
    },
    {
      "cell_type": "code",
      "execution_count": 15,
      "metadata": {
        "colab": {
          "base_uri": "https://localhost:8080/",
          "height": 362
        },
        "id": "Bzac-LyNoSDL",
        "outputId": "a086c6d6-d674-4c70-8f4f-7df4d784f71b"
      },
      "outputs": [
        {
          "data": {
            "text/html": [
              "<div>\n",
              "<style scoped>\n",
              "    .dataframe tbody tr th:only-of-type {\n",
              "        vertical-align: middle;\n",
              "    }\n",
              "\n",
              "    .dataframe tbody tr th {\n",
              "        vertical-align: top;\n",
              "    }\n",
              "\n",
              "    .dataframe thead th {\n",
              "        text-align: right;\n",
              "    }\n",
              "</style>\n",
              "<table border=\"1\" class=\"dataframe\">\n",
              "  <thead>\n",
              "    <tr style=\"text-align: right;\">\n",
              "      <th></th>\n",
              "      <th>Global CMP22 (vent/cor) [W/m^2]</th>\n",
              "      <th>Direct sNIP [W/m^2]</th>\n",
              "      <th>Tower Dry Bulb Temp [deg C]</th>\n",
              "      <th>Tower Wet Bulb Temp [deg C]</th>\n",
              "      <th>Tower Dew Point Temp [deg C]</th>\n",
              "      <th>Tower RH [%]</th>\n",
              "      <th>Total Cloud Cover [%]</th>\n",
              "      <th>Station Pressure [mBar]</th>\n",
              "      <th>Precipitation (Accumulated) [mm]</th>\n",
              "      <th>Snow Depth [cm]</th>\n",
              "      <th>Moisture</th>\n",
              "      <th>Albedo (CMP11)</th>\n",
              "      <th>scenario_set</th>\n",
              "      <th>Wind x</th>\n",
              "      <th>Wind y</th>\n",
              "      <th>Azimuth sin</th>\n",
              "      <th>Azimuth cos</th>\n",
              "      <th>img_index</th>\n",
              "      <th>Img Day sin</th>\n",
              "      <th>Img Day cos</th>\n",
              "      <th>Day sin</th>\n",
              "      <th>Day cos</th>\n",
              "      <th>Target Day sin</th>\n",
              "      <th>Target Day cos</th>\n",
              "      <th>Year sin</th>\n",
              "      <th>Year cos</th>\n",
              "      <th>cluster</th>\n",
              "    </tr>\n",
              "    <tr>\n",
              "      <th>DATE (YYYY/MM/DD)_MST</th>\n",
              "      <th></th>\n",
              "      <th></th>\n",
              "      <th></th>\n",
              "      <th></th>\n",
              "      <th></th>\n",
              "      <th></th>\n",
              "      <th></th>\n",
              "      <th></th>\n",
              "      <th></th>\n",
              "      <th></th>\n",
              "      <th></th>\n",
              "      <th></th>\n",
              "      <th></th>\n",
              "      <th></th>\n",
              "      <th></th>\n",
              "      <th></th>\n",
              "      <th></th>\n",
              "      <th></th>\n",
              "      <th></th>\n",
              "      <th></th>\n",
              "      <th></th>\n",
              "      <th></th>\n",
              "      <th></th>\n",
              "      <th></th>\n",
              "      <th></th>\n",
              "      <th></th>\n",
              "      <th></th>\n",
              "    </tr>\n",
              "  </thead>\n",
              "  <tbody>\n",
              "    <tr>\n",
              "      <th>2020-01-01 06:50:00</th>\n",
              "      <td>0.312743</td>\n",
              "      <td>0.089019</td>\n",
              "      <td>4.3235</td>\n",
              "      <td>-0.1480</td>\n",
              "      <td>-6.0430</td>\n",
              "      <td>44.110</td>\n",
              "      <td>6.0</td>\n",
              "      <td>802.7090</td>\n",
              "      <td>0.0</td>\n",
              "      <td>0.1075</td>\n",
              "      <td>0.0</td>\n",
              "      <td>0.00000</td>\n",
              "      <td>20200101</td>\n",
              "      <td>4.559929</td>\n",
              "      <td>1.577235</td>\n",
              "      <td>0.897710</td>\n",
              "      <td>-0.440587</td>\n",
              "      <td>-100</td>\n",
              "      <td>-100.0</td>\n",
              "      <td>-100.0</td>\n",
              "      <td>0.976296</td>\n",
              "      <td>-0.216440</td>\n",
              "      <td>0.737277</td>\n",
              "      <td>-0.675590</td>\n",
              "      <td>-0.002413</td>\n",
              "      <td>0.999997</td>\n",
              "      <td>0</td>\n",
              "    </tr>\n",
              "    <tr>\n",
              "      <th>2020-01-01 07:00:00</th>\n",
              "      <td>0.054702</td>\n",
              "      <td>0.089019</td>\n",
              "      <td>4.9352</td>\n",
              "      <td>0.1977</td>\n",
              "      <td>-5.9723</td>\n",
              "      <td>42.555</td>\n",
              "      <td>6.0</td>\n",
              "      <td>802.7238</td>\n",
              "      <td>0.0</td>\n",
              "      <td>0.4267</td>\n",
              "      <td>0.0</td>\n",
              "      <td>0.00000</td>\n",
              "      <td>20200101</td>\n",
              "      <td>1.308400</td>\n",
              "      <td>3.407432</td>\n",
              "      <td>0.890513</td>\n",
              "      <td>-0.454958</td>\n",
              "      <td>-100</td>\n",
              "      <td>-100.0</td>\n",
              "      <td>-100.0</td>\n",
              "      <td>0.965926</td>\n",
              "      <td>-0.258819</td>\n",
              "      <td>0.707107</td>\n",
              "      <td>-0.707107</td>\n",
              "      <td>-0.002294</td>\n",
              "      <td>0.999997</td>\n",
              "      <td>0</td>\n",
              "    </tr>\n",
              "    <tr>\n",
              "      <th>2020-01-01 07:10:00</th>\n",
              "      <td>1.302020</td>\n",
              "      <td>0.455477</td>\n",
              "      <td>6.7744</td>\n",
              "      <td>1.3601</td>\n",
              "      <td>-5.4399</td>\n",
              "      <td>39.209</td>\n",
              "      <td>6.0</td>\n",
              "      <td>802.7537</td>\n",
              "      <td>0.0</td>\n",
              "      <td>0.3888</td>\n",
              "      <td>0.0</td>\n",
              "      <td>0.00000</td>\n",
              "      <td>20200101</td>\n",
              "      <td>2.237664</td>\n",
              "      <td>2.217061</td>\n",
              "      <td>0.877863</td>\n",
              "      <td>-0.478912</td>\n",
              "      <td>-100</td>\n",
              "      <td>-100.0</td>\n",
              "      <td>-100.0</td>\n",
              "      <td>0.953717</td>\n",
              "      <td>-0.300706</td>\n",
              "      <td>0.675590</td>\n",
              "      <td>-0.737277</td>\n",
              "      <td>-0.002174</td>\n",
              "      <td>0.999998</td>\n",
              "      <td>0</td>\n",
              "    </tr>\n",
              "    <tr>\n",
              "      <th>2020-01-01 07:20:00</th>\n",
              "      <td>10.626200</td>\n",
              "      <td>78.254147</td>\n",
              "      <td>6.5575</td>\n",
              "      <td>1.2862</td>\n",
              "      <td>-5.2838</td>\n",
              "      <td>40.314</td>\n",
              "      <td>6.0</td>\n",
              "      <td>802.6065</td>\n",
              "      <td>0.0</td>\n",
              "      <td>0.1146</td>\n",
              "      <td>0.0</td>\n",
              "      <td>0.00000</td>\n",
              "      <td>20200101</td>\n",
              "      <td>0.798512</td>\n",
              "      <td>2.969512</td>\n",
              "      <td>0.864345</td>\n",
              "      <td>-0.502899</td>\n",
              "      <td>-100</td>\n",
              "      <td>-100.0</td>\n",
              "      <td>-100.0</td>\n",
              "      <td>0.939693</td>\n",
              "      <td>-0.342020</td>\n",
              "      <td>0.642788</td>\n",
              "      <td>-0.766044</td>\n",
              "      <td>-0.002055</td>\n",
              "      <td>0.999998</td>\n",
              "      <td>0</td>\n",
              "    </tr>\n",
              "    <tr>\n",
              "      <th>2020-01-01 07:30:00</th>\n",
              "      <td>7.985610</td>\n",
              "      <td>100.828049</td>\n",
              "      <td>6.4810</td>\n",
              "      <td>1.1750</td>\n",
              "      <td>-5.5050</td>\n",
              "      <td>39.769</td>\n",
              "      <td>6.0</td>\n",
              "      <td>802.5281</td>\n",
              "      <td>0.0</td>\n",
              "      <td>0.2637</td>\n",
              "      <td>0.0</td>\n",
              "      <td>0.08143</td>\n",
              "      <td>20200101</td>\n",
              "      <td>-0.769296</td>\n",
              "      <td>-2.744209</td>\n",
              "      <td>0.849918</td>\n",
              "      <td>-0.526916</td>\n",
              "      <td>-100</td>\n",
              "      <td>-100.0</td>\n",
              "      <td>-100.0</td>\n",
              "      <td>0.923880</td>\n",
              "      <td>-0.382683</td>\n",
              "      <td>0.608761</td>\n",
              "      <td>-0.793353</td>\n",
              "      <td>-0.001935</td>\n",
              "      <td>0.999998</td>\n",
              "      <td>0</td>\n",
              "    </tr>\n",
              "  </tbody>\n",
              "</table>\n",
              "</div>"
            ],
            "text/plain": [
              "                       Global CMP22 (vent/cor) [W/m^2]  ...  cluster\n",
              "DATE (YYYY/MM/DD)_MST                                   ...         \n",
              "2020-01-01 06:50:00                           0.312743  ...        0\n",
              "2020-01-01 07:00:00                           0.054702  ...        0\n",
              "2020-01-01 07:10:00                           1.302020  ...        0\n",
              "2020-01-01 07:20:00                          10.626200  ...        0\n",
              "2020-01-01 07:30:00                           7.985610  ...        0\n",
              "\n",
              "[5 rows x 27 columns]"
            ]
          },
          "execution_count": 15,
          "metadata": {},
          "output_type": "execute_result"
        }
      ],
      "source": [
        "train_data_df.head()"
      ]
    },
    {
      "cell_type": "code",
      "execution_count": 16,
      "metadata": {
        "colab": {
          "base_uri": "https://localhost:8080/",
          "height": 313
        },
        "id": "nhiqI3xDohXJ",
        "outputId": "95a4b850-c7fa-49a3-abbe-dc5a7e039d96"
      },
      "outputs": [
        {
          "data": {
            "text/html": [
              "<div>\n",
              "<style scoped>\n",
              "    .dataframe tbody tr th:only-of-type {\n",
              "        vertical-align: middle;\n",
              "    }\n",
              "\n",
              "    .dataframe tbody tr th {\n",
              "        vertical-align: top;\n",
              "    }\n",
              "\n",
              "    .dataframe thead th {\n",
              "        text-align: right;\n",
              "    }\n",
              "</style>\n",
              "<table border=\"1\" class=\"dataframe\">\n",
              "  <thead>\n",
              "    <tr style=\"text-align: right;\">\n",
              "      <th></th>\n",
              "      <th>Global CMP22 (vent/cor) [W/m^2]</th>\n",
              "      <th>Direct sNIP [W/m^2]</th>\n",
              "      <th>Tower Dry Bulb Temp [deg C]</th>\n",
              "      <th>Tower Wet Bulb Temp [deg C]</th>\n",
              "      <th>Tower Dew Point Temp [deg C]</th>\n",
              "      <th>Tower RH [%]</th>\n",
              "      <th>Total Cloud Cover [%]</th>\n",
              "      <th>Station Pressure [mBar]</th>\n",
              "      <th>Precipitation (Accumulated) [mm]</th>\n",
              "      <th>Snow Depth [cm]</th>\n",
              "      <th>Moisture</th>\n",
              "      <th>Albedo (CMP11)</th>\n",
              "      <th>Wind x</th>\n",
              "      <th>Wind y</th>\n",
              "      <th>Azimuth sin</th>\n",
              "      <th>Azimuth cos</th>\n",
              "      <th>Img Day sin</th>\n",
              "      <th>Img Day cos</th>\n",
              "      <th>Day sin</th>\n",
              "      <th>Day cos</th>\n",
              "      <th>Target Day sin</th>\n",
              "      <th>Target Day cos</th>\n",
              "      <th>Year sin</th>\n",
              "      <th>Year cos</th>\n",
              "    </tr>\n",
              "  </thead>\n",
              "  <tbody>\n",
              "    <tr>\n",
              "      <th>0</th>\n",
              "      <td>0.000271</td>\n",
              "      <td>0.000082</td>\n",
              "      <td>0.400842</td>\n",
              "      <td>0.457302</td>\n",
              "      <td>0.414141</td>\n",
              "      <td>0.414773</td>\n",
              "      <td>0.06</td>\n",
              "      <td>0.967732</td>\n",
              "      <td>0.0</td>\n",
              "      <td>0.343715</td>\n",
              "      <td>0.0</td>\n",
              "      <td>0.000000</td>\n",
              "      <td>0.754229</td>\n",
              "      <td>0.609652</td>\n",
              "      <td>0.948855</td>\n",
              "      <td>0.279756</td>\n",
              "      <td>0.0</td>\n",
              "      <td>0.0</td>\n",
              "      <td>0.988148</td>\n",
              "      <td>0.391780</td>\n",
              "      <td>0.868639</td>\n",
              "      <td>0.162205</td>\n",
              "      <td>0.498793</td>\n",
              "      <td>0.999999</td>\n",
              "    </tr>\n",
              "    <tr>\n",
              "      <th>1</th>\n",
              "      <td>0.000047</td>\n",
              "      <td>0.000082</td>\n",
              "      <td>0.412419</td>\n",
              "      <td>0.467061</td>\n",
              "      <td>0.415949</td>\n",
              "      <td>0.398528</td>\n",
              "      <td>0.06</td>\n",
              "      <td>0.967750</td>\n",
              "      <td>0.0</td>\n",
              "      <td>0.351662</td>\n",
              "      <td>0.0</td>\n",
              "      <td>0.000000</td>\n",
              "      <td>0.549904</td>\n",
              "      <td>0.715643</td>\n",
              "      <td>0.945256</td>\n",
              "      <td>0.272569</td>\n",
              "      <td>0.0</td>\n",
              "      <td>0.0</td>\n",
              "      <td>0.982963</td>\n",
              "      <td>0.370590</td>\n",
              "      <td>0.853553</td>\n",
              "      <td>0.146447</td>\n",
              "      <td>0.498853</td>\n",
              "      <td>0.999999</td>\n",
              "    </tr>\n",
              "    <tr>\n",
              "      <th>2</th>\n",
              "      <td>0.001131</td>\n",
              "      <td>0.000422</td>\n",
              "      <td>0.447226</td>\n",
              "      <td>0.499876</td>\n",
              "      <td>0.429567</td>\n",
              "      <td>0.363573</td>\n",
              "      <td>0.06</td>\n",
              "      <td>0.967786</td>\n",
              "      <td>0.0</td>\n",
              "      <td>0.350719</td>\n",
              "      <td>0.0</td>\n",
              "      <td>0.000000</td>\n",
              "      <td>0.608299</td>\n",
              "      <td>0.646706</td>\n",
              "      <td>0.938932</td>\n",
              "      <td>0.260590</td>\n",
              "      <td>0.0</td>\n",
              "      <td>0.0</td>\n",
              "      <td>0.976858</td>\n",
              "      <td>0.349647</td>\n",
              "      <td>0.837795</td>\n",
              "      <td>0.131361</td>\n",
              "      <td>0.498913</td>\n",
              "      <td>0.999999</td>\n",
              "    </tr>\n",
              "    <tr>\n",
              "      <th>3</th>\n",
              "      <td>0.009228</td>\n",
              "      <td>0.072449</td>\n",
              "      <td>0.443121</td>\n",
              "      <td>0.497790</td>\n",
              "      <td>0.433560</td>\n",
              "      <td>0.375117</td>\n",
              "      <td>0.06</td>\n",
              "      <td>0.967608</td>\n",
              "      <td>0.0</td>\n",
              "      <td>0.343892</td>\n",
              "      <td>0.0</td>\n",
              "      <td>0.000000</td>\n",
              "      <td>0.517863</td>\n",
              "      <td>0.690282</td>\n",
              "      <td>0.932173</td>\n",
              "      <td>0.248594</td>\n",
              "      <td>0.0</td>\n",
              "      <td>0.0</td>\n",
              "      <td>0.969846</td>\n",
              "      <td>0.328990</td>\n",
              "      <td>0.821394</td>\n",
              "      <td>0.116978</td>\n",
              "      <td>0.498973</td>\n",
              "      <td>0.999999</td>\n",
              "    </tr>\n",
              "    <tr>\n",
              "      <th>4</th>\n",
              "      <td>0.006935</td>\n",
              "      <td>0.093348</td>\n",
              "      <td>0.441673</td>\n",
              "      <td>0.494650</td>\n",
              "      <td>0.427902</td>\n",
              "      <td>0.369423</td>\n",
              "      <td>0.06</td>\n",
              "      <td>0.967514</td>\n",
              "      <td>0.0</td>\n",
              "      <td>0.347604</td>\n",
              "      <td>0.0</td>\n",
              "      <td>0.040715</td>\n",
              "      <td>0.419343</td>\n",
              "      <td>0.359388</td>\n",
              "      <td>0.924959</td>\n",
              "      <td>0.236584</td>\n",
              "      <td>0.0</td>\n",
              "      <td>0.0</td>\n",
              "      <td>0.961940</td>\n",
              "      <td>0.308658</td>\n",
              "      <td>0.804381</td>\n",
              "      <td>0.103323</td>\n",
              "      <td>0.499032</td>\n",
              "      <td>0.999999</td>\n",
              "    </tr>\n",
              "  </tbody>\n",
              "</table>\n",
              "</div>"
            ],
            "text/plain": [
              "   Global CMP22 (vent/cor) [W/m^2]  Direct sNIP [W/m^2]  ...  Year sin  Year cos\n",
              "0                         0.000271             0.000082  ...  0.498793  0.999999\n",
              "1                         0.000047             0.000082  ...  0.498853  0.999999\n",
              "2                         0.001131             0.000422  ...  0.498913  0.999999\n",
              "3                         0.009228             0.072449  ...  0.498973  0.999999\n",
              "4                         0.006935             0.093348  ...  0.499032  0.999999\n",
              "\n",
              "[5 rows x 24 columns]"
            ]
          },
          "execution_count": 16,
          "metadata": {},
          "output_type": "execute_result"
        }
      ],
      "source": [
        "train_data_df_scaled.head()"
      ]
    },
    {
      "cell_type": "markdown",
      "metadata": {
        "id": "s5MXJHT1ozRq"
      },
      "source": [
        "Each record in Index dataframe will become to one training example.\n",
        "* Feature start to end becomes features (input steps, features)\n",
        "* Feature end to total end becomes target (output steps, target)"
      ]
    },
    {
      "cell_type": "code",
      "execution_count": 17,
      "metadata": {
        "colab": {
          "base_uri": "https://localhost:8080/",
          "height": 206
        },
        "id": "pMHA-fwconIc",
        "outputId": "5110e665-99ad-4fa4-824f-b76aa11ccd90"
      },
      "outputs": [
        {
          "data": {
            "text/html": [
              "<div>\n",
              "<style scoped>\n",
              "    .dataframe tbody tr th:only-of-type {\n",
              "        vertical-align: middle;\n",
              "    }\n",
              "\n",
              "    .dataframe tbody tr th {\n",
              "        vertical-align: top;\n",
              "    }\n",
              "\n",
              "    .dataframe thead th {\n",
              "        text-align: right;\n",
              "    }\n",
              "</style>\n",
              "<table border=\"1\" class=\"dataframe\">\n",
              "  <thead>\n",
              "    <tr style=\"text-align: right;\">\n",
              "      <th></th>\n",
              "      <th>cluster</th>\n",
              "      <th>scenario_set</th>\n",
              "      <th>index</th>\n",
              "      <th>day_start_idx</th>\n",
              "      <th>feature_start_idx</th>\n",
              "      <th>feature_end_idx</th>\n",
              "      <th>total_end_idx</th>\n",
              "      <th>feature_steps</th>\n",
              "    </tr>\n",
              "  </thead>\n",
              "  <tbody>\n",
              "    <tr>\n",
              "      <th>0</th>\n",
              "      <td>1</td>\n",
              "      <td>20200321</td>\n",
              "      <td>0</td>\n",
              "      <td>5515</td>\n",
              "      <td>5544</td>\n",
              "      <td>5556</td>\n",
              "      <td>5568</td>\n",
              "      <td>12</td>\n",
              "    </tr>\n",
              "    <tr>\n",
              "      <th>1</th>\n",
              "      <td>3</td>\n",
              "      <td>20200712</td>\n",
              "      <td>1</td>\n",
              "      <td>15478</td>\n",
              "      <td>15544</td>\n",
              "      <td>15556</td>\n",
              "      <td>15568</td>\n",
              "      <td>12</td>\n",
              "    </tr>\n",
              "    <tr>\n",
              "      <th>2</th>\n",
              "      <td>1</td>\n",
              "      <td>20200617</td>\n",
              "      <td>2</td>\n",
              "      <td>13171</td>\n",
              "      <td>13183</td>\n",
              "      <td>13195</td>\n",
              "      <td>13207</td>\n",
              "      <td>12</td>\n",
              "    </tr>\n",
              "    <tr>\n",
              "      <th>3</th>\n",
              "      <td>1</td>\n",
              "      <td>20200531</td>\n",
              "      <td>3</td>\n",
              "      <td>11605</td>\n",
              "      <td>11643</td>\n",
              "      <td>11655</td>\n",
              "      <td>11667</td>\n",
              "      <td>12</td>\n",
              "    </tr>\n",
              "    <tr>\n",
              "      <th>4</th>\n",
              "      <td>0</td>\n",
              "      <td>20201225</td>\n",
              "      <td>4</td>\n",
              "      <td>27674</td>\n",
              "      <td>27706</td>\n",
              "      <td>27718</td>\n",
              "      <td>27730</td>\n",
              "      <td>12</td>\n",
              "    </tr>\n",
              "  </tbody>\n",
              "</table>\n",
              "</div>"
            ],
            "text/plain": [
              "   cluster  scenario_set  index  ...  feature_end_idx  total_end_idx  feature_steps\n",
              "0        1      20200321      0  ...             5556           5568             12\n",
              "1        3      20200712      1  ...            15556          15568             12\n",
              "2        1      20200617      2  ...            13195          13207             12\n",
              "3        1      20200531      3  ...            11655          11667             12\n",
              "4        0      20201225      4  ...            27718          27730             12\n",
              "\n",
              "[5 rows x 8 columns]"
            ]
          },
          "execution_count": 17,
          "metadata": {},
          "output_type": "execute_result"
        }
      ],
      "source": [
        "train_idx_df_boosted.head()"
      ]
    },
    {
      "cell_type": "markdown",
      "metadata": {
        "id": "fydvf8QHNIz2"
      },
      "source": [
        "Tensorflow Datasets Creation"
      ]
    },
    {
      "cell_type": "code",
      "execution_count": 18,
      "metadata": {
        "id": "kjmKcITQNIz3"
      },
      "outputs": [],
      "source": [
        "def extract_image(idx):\n",
        "    return all_images_tensor[idx]\n",
        "    \n",
        "def create_single_image_dataset(img_df, idx_df, img_col_index, cluster_id=None,):\n",
        "    \n",
        "    img_df_tensor = tf.cast(tf.convert_to_tensor(img_df[img_index_col].values), tf.int32)\n",
        "    def extract_image_idx(idx_row):\n",
        "        return img_df_tensor[idx_row[img_col_index]]\n",
        "    \n",
        "    ds = create_cluster_idx_dataset(idx_df, cluster_id=cluster_id)\n",
        "    ds = ds.map(extract_image_idx).map(extract_image)\n",
        "    return ds\n",
        "\n",
        "def create_mluti_images_dataset(img_df, idx_df, start_index, end_index, cluster_id=None,):\n",
        "    \n",
        "    img_df_tensor = tf.cast(tf.convert_to_tensor(img_df[img_index_col].values), tf.int32)\n",
        "    def extract_images(image_indexes):\n",
        "        return tf.map_fn(extract_image, image_indexes, fn_output_signature=tf.float32)\n",
        "    \n",
        "    def extract_image_indexes(idx_row):\n",
        "        image_indexes = img_df_tensor[idx_row[start_index]:idx_row[end_index]]\n",
        "        # image_indexes, _ = tf.unique(image_indexes)\n",
        "        valid_indexes_mask = tf.map_fn(lambda idx: idx != img_unavailable, image_indexes, \n",
        "                                       fn_output_signature=tf.bool)\n",
        "        return tf.boolean_mask(image_indexes, valid_indexes_mask)\n",
        "    \n",
        "    ds = create_cluster_idx_dataset(idx_df, cluster_id=cluster_id)\n",
        "    ds = ds.map(extract_image_indexes).map(extract_images)\n",
        "    return ds\n",
        "\n",
        "def create_cluster_idx_dataset(idx_df, cluster_id=None):\n",
        "    ds = tf.data.Dataset.from_tensor_slices(idx_df.values)\n",
        "    ds = ds.map(lambda elem: tf.cast(elem, tf.int32))\n",
        "    if cluster_id is not None:\n",
        "        ds = ds.filter(lambda elem: elem[cluster_idx] == cluster_id) \n",
        "    return ds\n",
        "\n",
        "def create_time_series_dataset(ts_df, idx_df, end_index, start_index=None, steps=None,\n",
        "                               cluster_id=None, reshape=None):\n",
        "    if start_index is None and steps is None:\n",
        "        raise ValueError(\"either start_index or steps required\")\n",
        "#     bucket_bounderies = [13, 16, 19, 22, 25, 28, 31, 34]\n",
        "    ts_tensor = tf.convert_to_tensor(ts_df.values)\n",
        "    def extract_ts_records(row):\n",
        "        feature_start = row[start_index] if start_index is not None else row[end_index]-steps\n",
        "        features = ts_tensor[feature_start:row[end_index]]\n",
        "        return features\n",
        "    \n",
        "    def extract_ts_records_for_batch(rows):\n",
        "        return tf.map_fn(extract_ts_records, rows, fn_output_signature=tf.float64)\n",
        "    \n",
        "    ds = create_cluster_idx_dataset(idx_df, cluster_id=cluster_id) \n",
        "#   Enable this for variable batch size\n",
        "#     ds = ds.apply(tf.data.experimental.bucket_by_sequence_length(\n",
        "#                                     element_length_func=lambda elem: elem[-2],\n",
        "#                                     bucket_boundaries=bucket_bounderies,\n",
        "#                                     bucket_batch_sizes=np.repeat(batch_size, len(bucket_bounderies)+1)))\n",
        "    ds = ds.map(extract_ts_records)\n",
        "    if reshape is not None:\n",
        "        ds = ds.map(lambda elem: tf.reshape(elem, reshape))\n",
        "    return ds\n",
        "\n",
        "# Creates aggregated features like mean and standard deviation\n",
        "def create_agg_dataset(scaled, idx_df, cluster_id=None):\n",
        "    ts_tensor = tf.convert_to_tensor(scaled[target_col].values)\n",
        "    def compute_agg_features(idx_row):\n",
        "        day_ts = ts_tensor[idx_row[day_start_idx]:idx_row[feature_end_idx]]\n",
        "        input_steps_ts = ts_tensor[idx_row[feature_start_idx]:idx_row[feature_end_idx]]\n",
        "        day_mean = tf.math.reduce_mean(day_ts)\n",
        "        day_std = tf.math.reduce_std(day_ts)\n",
        "        input_steps_mean = tf.math.reduce_mean(input_steps_ts)\n",
        "        input_steps_std = tf.math.reduce_std(input_steps_ts)\n",
        "        return tf.convert_to_tensor([day_mean, day_std, input_steps_mean, input_steps_std])\n",
        "    \n",
        "    ds = create_cluster_idx_dataset(idx_df, cluster_id) \n",
        "    ds = ds.map(compute_agg_features)\n",
        "    return ds\n",
        "\n",
        "def create_features_dataset(scaled_df, data_df, idx_df, cluster_id=None):\n",
        "    ts_ds = create_time_series_dataset(scaled_df[time_series_cols], idx_df, feature_end_idx, \n",
        "                              start_index=feature_start_idx, cluster_id=cluster_id)\n",
        "    img_ds = create_single_image_dataset(data_df[img_cols], idx_df, feature_end_idx, cluster_id=cluster_id)\n",
        "#     img_ds = create_multi_images_dataset(img_df, idx_df, feature_start_idx, feature_end_idx, cluster_id)\n",
        "    agg_ds = create_agg_dataset(scaled_df, idx_df, cluster_id=cluster_id)\n",
        "    # If input steps != output steps this won't work, this needs to be fixed\n",
        "    target_dates_ds = create_time_series_dataset(scaled_df[target_date_cols], idx_df, feature_end_idx, \n",
        "                                        steps=OUTPUT_STEPS, cluster_id=cluster_id)\n",
        "\n",
        "    return tf.data.Dataset.zip(((ts_ds, img_ds, agg_ds, target_dates_ds),))\n",
        "\n",
        "def create_dataset_with_labels(scaled_df, data_df, idx_df, cluster_id=None, batch_size=32):\n",
        "    features_ds = create_features_dataset(scaled_df, data_df, idx_df, cluster_id=cluster_id)\n",
        "    target_ds = create_time_series_dataset(data_df[target_col], idx_df, total_end_idx, steps=OUTPUT_STEPS,\n",
        "                                  cluster_id=cluster_id, reshape=(OUTPUT_STEPS,))\n",
        "    return tf.data.Dataset.zip((features_ds, target_ds)).batch(batch_size).prefetch(tf.data.AUTOTUNE)"
      ]
    },
    {
      "cell_type": "markdown",
      "metadata": {
        "id": "Ig1VGP91rieG"
      },
      "source": [
        "Image Dataset"
      ]
    },
    {
      "cell_type": "code",
      "execution_count": 19,
      "metadata": {
        "colab": {
          "base_uri": "https://localhost:8080/"
        },
        "id": "dJoRB9cArh4u",
        "outputId": "76f53f53-8bd2-4abd-8013-d1c791fd409e"
      },
      "outputs": [
        {
          "name": "stdout",
          "output_type": "stream",
          "text": [
            "(1, 40, 40, 3)\n"
          ]
        }
      ],
      "source": [
        "for elem in create_single_image_dataset(train_data_df[img_cols], train_idx_df_boosted, \n",
        "                                        feature_end_idx).batch(1).take(1):\n",
        "  print(elem.shape)"
      ]
    },
    {
      "cell_type": "markdown",
      "metadata": {
        "id": "0hmXf7KWsp5T"
      },
      "source": [
        "Time series Dataset\n",
        "\n"
      ]
    },
    {
      "cell_type": "code",
      "execution_count": 20,
      "metadata": {
        "colab": {
          "base_uri": "https://localhost:8080/"
        },
        "id": "x-OUtYZrskpk",
        "outputId": "2433f393-8f11-4782-c075-abeadfeef310"
      },
      "outputs": [
        {
          "name": "stdout",
          "output_type": "stream",
          "text": [
            "(1, 12, 20)\n"
          ]
        }
      ],
      "source": [
        "for elem in create_time_series_dataset(train_data_df[time_series_cols], train_idx_df_boosted, \n",
        "                                        feature_end_idx, start_index=feature_start_idx).batch(1).take(1):\n",
        "  print(elem.shape)"
      ]
    },
    {
      "cell_type": "markdown",
      "metadata": {
        "id": "XQfM-l8kubWS"
      },
      "source": [
        "All features dataset"
      ]
    },
    {
      "cell_type": "code",
      "execution_count": 21,
      "metadata": {
        "colab": {
          "base_uri": "https://localhost:8080/"
        },
        "id": "WTyMApHiuhgk",
        "outputId": "d068c059-21ef-46f8-c7c6-c1914f667ebc"
      },
      "outputs": [
        {
          "name": "stdout",
          "output_type": "stream",
          "text": [
            "(1, 12, 20)\n",
            "(1, 40, 40, 3)\n",
            "(1, 4)\n",
            "(1, 12, 2)\n"
          ]
        }
      ],
      "source": [
        "for elem in create_features_dataset(train_data_df_scaled, train_data_df, train_idx_df_boosted).batch(1).take(1):\n",
        "  for item in elem[0]:\n",
        "    print(item.shape)"
      ]
    },
    {
      "cell_type": "markdown",
      "metadata": {
        "id": "NezBSRBVtH9X"
      },
      "source": [
        "Prepare target data for computing individual predictions. This is for analyzing the prediction errors with respect to input features."
      ]
    },
    {
      "cell_type": "code",
      "execution_count": 22,
      "metadata": {
        "id": "Hzb-g1YYNIz3",
        "scrolled": true
      },
      "outputs": [],
      "source": [
        "train_target_ts_data = np.array(list(create_time_series_dataset(train_data_df[target_col], \n",
        "                                                                train_idx_df_boosted, total_end_idx,\n",
        "                                                                steps=OUTPUT_STEPS,\n",
        "                                                                reshape=(OUTPUT_STEPS,)).as_numpy_iterator()))\n",
        "val_target_ts_data = np.array(list(create_time_series_dataset(val_data_df[target_col], val_idx_df,\n",
        "                                                              total_end_idx,  steps=OUTPUT_STEPS,\n",
        "                                                              reshape=(OUTPUT_STEPS,)).as_numpy_iterator()))\n",
        "test_target_ts_data = np.array(list(create_time_series_dataset(test_data_df[target_col], test_idx_df, \n",
        "                                                               total_end_idx, steps=OUTPUT_STEPS,\n",
        "                                                               reshape=(OUTPUT_STEPS,)).as_numpy_iterator()))\n",
        "\n",
        "train_ds = create_dataset_with_labels(train_data_df_scaled, train_data_df, train_idx_df_boosted)\n",
        "val_ds = create_dataset_with_labels(val_data_df_scaled,  val_data_df, val_idx_df)\n",
        "test_ds = create_dataset_with_labels(test_data_df_scaled, test_data_df, test_idx_df)"
      ]
    },
    {
      "cell_type": "code",
      "execution_count": 23,
      "metadata": {
        "colab": {
          "base_uri": "https://localhost:8080/"
        },
        "id": "CEFGbJIJtmxF",
        "outputId": "529674db-4832-4837-d034-5ea75e18810b"
      },
      "outputs": [
        {
          "name": "stdout",
          "output_type": "stream",
          "text": [
            "training target: (26735, 12)\n",
            "training dataset: <PrefetchDataset shapes: ((((None, None, 20), (None, 40, 40, 3), (None, 4), (None, None, 2)),), (None, 12)), types: (((tf.float64, tf.float32, tf.float64, tf.float64),), tf.float64)>\n"
          ]
        }
      ],
      "source": [
        "print(\"training target:\", train_target_ts_data.shape)\n",
        "print(\"training dataset:\", train_ds)"
      ]
    },
    {
      "cell_type": "code",
      "execution_count": 24,
      "metadata": {
        "id": "YbQUQBOJIPes"
      },
      "outputs": [],
      "source": [
        "# Model prediction error is increasing with time steps in the target so we are using \n",
        "# weighted mae such that model focuses on reducing error for later time steps\n",
        "def weighted_mae(y_true, y_pred):\n",
        " \n",
        "    loss = tf.abs(tf.subtract(y_pred, y_true))  # (batch_size, OUTPUT_STEPS)\n",
        "    \n",
        "    # multiplying the values with weights along batch dimension\n",
        "    loss = loss * tf.nn.softmax(tf.linspace(0.0, 0.5, OUTPUT_STEPS)) \n",
        "                \n",
        "    # summing both loss values along batch dimension \n",
        "    loss = tf.reduce_sum(loss, axis=1)        # (batch_size,)\n",
        "    \n",
        "    return loss\n",
        "\n",
        "def compile_and_fit(model, train_ds, val_ds, model_path, epochs=5, patience=3):\n",
        "    early_stopping = tf.keras.callbacks.EarlyStopping(monitor='val_loss', patience=patience, mode='min')\n",
        "    reduce_lr = tf.keras.callbacks.ReduceLROnPlateau( monitor='val_loss', factor=0.1, patience=patience,\n",
        "                                                     mode='min', min_delta=0.0001, cooldown=0, min_lr=0.0001)\n",
        "    model_checkpoint_callback = tf.keras.callbacks.ModelCheckpoint(filepath=model_path, monitor='val_loss',\n",
        "                                                                   mode='min', save_weights_only=True,\n",
        "                                                                   save_best_only=True)\n",
        "    \n",
        "    model.compile(loss=weighted_mae, optimizer=tf.keras.optimizers.Adamax(learning_rate=0.01))\n",
        "    return model.fit(train_ds, epochs=epochs, validation_data=val_ds,\n",
        "                      callbacks=[early_stopping, model_checkpoint_callback, reduce_lr])\n",
        "\n",
        "def create_conv_lstm_model(ix=img_x, iy=img_y):\n",
        "    cnn_lstm_input = tf.keras.Input(shape=(INPUT_STEPS, ix, iy, 3), name=\"img\") \n",
        "    img_features = tf.keras.layers.ConvLSTM2D(32, 3, activation=\"relu\",\n",
        "                                              return_sequences=True)(cnn_lstm_input)\n",
        "    img_features = tf.keras.layers.MaxPooling3D(pool_size=(1, 2, 2))(img_features)\n",
        "    img_features = tf.keras.layers.ConvLSTM2D(16, 3, activation=\"relu\",\n",
        "                                              return_sequences=True)(img_features)\n",
        "    img_features = tf.keras.layers.MaxPooling3D(pool_size=(1, 2, 2))(img_features)\n",
        "    img_features = tf.keras.layers.ConvLSTM2D(16, 3, activation=\"relu\",\n",
        "                                              return_sequences=True)(img_features)\n",
        "    img_features = tf.keras.layers.MaxPooling3D(pool_size=(1, 4, 4))(img_features)\n",
        "    cnn_lstm_output = tf.keras.layers.Reshape((INPUT_STEPS, -1))(img_features)\n",
        "    return tf.keras.Model(inputs=[cnn_lstm_input], outputs=[cnn_lstm_output], name=\"cnn-lstm\")\n",
        "\n",
        "def create_multi_conv_model(ix=img_x, iy=img_y):\n",
        "    cnn_input = tf.keras.Input(shape=(INPUT_STEPS, ix, iy, 3), name=\"img\") \n",
        "    img_features = tf.keras.layers.Conv2D(32, 3, activation=\"relu\")(cnn_input)\n",
        "    img_features = tf.keras.layers.MaxPooling3D(pool_size=(1, 2, 2))(img_features)\n",
        "    img_features = tf.keras.layers.Conv2D(16, 3, activation=\"relu\")(img_features)\n",
        "    img_features = tf.keras.layers.MaxPooling3D(pool_size=(1, 2, 2))(img_features)\n",
        "    img_features = tf.keras.layers.Conv2D(16, 3, activation=\"relu\")(img_features)\n",
        "    img_features = tf.keras.layers.MaxPooling3D(pool_size=(1, 4, 4))(img_features)\n",
        "    cnn_output = tf.keras.layers.Reshape((INPUT_STEPS, -1))(img_features)\n",
        "    return tf.keras.Model(inputs=[cnn_input], outputs=[cnn_output], name=\"cnn-multi\")\n",
        "    \n",
        "def create_single_conv_model(ix=img_x, iy=img_y):\n",
        "    cnn_input = tf.keras.Input(shape=(ix, iy, 3), name=\"img\")\n",
        "    img_features = tf.keras.layers.Conv2D(32, 3, activation=\"relu\")(cnn_input)\n",
        "    img_features = tf.keras.layers.MaxPooling2D(2)(img_features)\n",
        "    img_features = tf.keras.layers.Conv2D(16, 3, activation=\"relu\")(img_features)\n",
        "    img_features = tf.keras.layers.MaxPooling2D(2)(img_features)\n",
        "    img_features = tf.keras.layers.Conv2D(8, 3, activation=\"relu\")(img_features)\n",
        "    cnn_output = tf.keras.layers.GlobalMaxPooling2D()(img_features)\n",
        "    return tf.keras.Model(inputs=[cnn_input], outputs=[cnn_output], name=\"cnn\") \n",
        "    \n",
        "def create_model(ix=img_x, iy=img_y):\n",
        "            \n",
        "#     img_input = tf.keras.Input(shape=(INPUT_STEPS, ix, iy, 3), name=\"images\")\n",
        "    img_input = tf.keras.Input(shape=(ix, iy, 3), name=\"image_data\")\n",
        "    ts_input = tf.keras.Input(shape=(INPUT_STEPS, len(time_series_cols)), name='weather_data')\n",
        "    agg_input = tf.keras.Input(shape=(4,), name='aggregate_features')\n",
        "    target_dates_input = tf.keras.Input(shape=(OUTPUT_STEPS, len(target_date_cols)), name='target_time')\n",
        "    img_output = create_single_conv_model(ix, iy)(img_input)\n",
        "#     img_output = create_conv_lstm_model(ix, iy)(img_input)\n",
        "#     img_output = create_multi_conv_model(ix, iy)(img_input)\n",
        "    ts_features = tf.keras.layers.LSTM(32, return_sequences=False, name='input_time_series_processing')(ts_input)\n",
        "    all_features = tf.keras.layers.Concatenate(name='all_input_features')([ts_features, img_output, agg_input])\n",
        "    all_features = tf.keras.layers.RepeatVector(OUTPUT_STEPS, name='time_series_expansion')(all_features)\n",
        "    all_features = tf.keras.layers.Concatenate(name='target_time_association')([all_features, target_dates_input])\n",
        "    all_features = tf.keras.layers.LSTM(128, return_sequences=False, name='output_time_series_processing')(all_features)\n",
        "    all_features = tf.keras.layers.Dense(128, activation='relu')(all_features)\n",
        "    final_output = tf.keras.layers.Dense(OUTPUT_STEPS, name='output')(all_features)\n",
        "    model = tf.keras.Model(inputs=[ts_input, img_input, agg_input, target_dates_input], outputs=[final_output])\n",
        "    \n",
        "    return model\n",
        "\n",
        "models_location = os.path.join(data_path, \"models\", \"ts-images-agg-td\")\n",
        "base_model_location = os.path.join(models_location, \"base\")\n",
        "\n",
        "def train_cluster(cluster_id, base_model=None, base_model_location=None):\n",
        "    print(\"training for\", cluster_id)\n",
        "    model = create_model()\n",
        "\n",
        "    cluster_model_location = os.path.join(models_location, \"cluster-{}\".format(cluster_id))\n",
        "    model_path = os.path.join(cluster_model_location, \"checkpoint\")\n",
        "    \n",
        "    if base_model is not None:\n",
        "        model.set_weights(base_model.get_weights())\n",
        "    elif base_model_location is not None:\n",
        "        model.load_weights(tf.train.latest_checkpoint(base_model_location))\n",
        "        \n",
        "    cluster_train_ds = create_dataset_with_labels(train_data_df_scaled, train_data_df, \n",
        "                                                  train_idx_df_boosted, cluster_id=cluster_id)\n",
        "    cluster_val_ds = create_dataset_with_labels(val_data_df_scaled,  val_data_df, \n",
        "                                                val_idx_df, cluster_id=cluster_id)\n",
        "    compile_and_fit(model, cluster_train_ds, cluster_val_ds, model_path, epochs=100, patience=5)\n",
        "\n",
        "    best_model = create_model()\n",
        "    best_model.load_weights(tf.train.latest_checkpoint(cluster_model_location))\n",
        "    best_model.compile(loss='mae', optimizer='Adamax')\n",
        "    clear_output()\n",
        "        \n",
        "    return best_model\n",
        "\n",
        "def train_clusters(base_model=None, base_model_location=None):\n",
        "    cluster_models = []\n",
        "    for cluster_id in range(num_clusters):\n",
        "        cluster_models.append(train_cluster(cluster_id, base_model=base_model, \n",
        "                                            base_model_location=base_model_location))\n",
        "    return cluster_models\n",
        "\n",
        "# We need to predict only positive values but sometimes model is predicting\n",
        "# negative values so we are filling those values using other values.\n",
        "def forward_fill_predictions(predictions):\n",
        "    predictions[predictions < 0] = np.nan\n",
        "    df = pd.DataFrame(predictions).fillna(method=\"ffill\", axis=1).fillna(method=\"bfill\", axis=1).fillna(0)\n",
        "    return df.values\n",
        "\n",
        "def predict_with_base_model(model, ts_ds, idx_df):\n",
        "    predictions = base_best_model.predict(ts_ds, verbose=0)\n",
        "    predictions = forward_fill_predictions(predictions)\n",
        "    final_predictions = np.hstack([idx_df[[index_col, cluster_col]].values, predictions])\n",
        "    return final_predictions[final_predictions[:, 0].argsort()] \n",
        "    \n",
        "def predict_with_single_cluster_model(models, scaled_df, data_df, idx_df):\n",
        "    all_predictions = []\n",
        "    for cluster_id, model in enumerate(models):\n",
        "        feature_ds = create_features_dataset(scaled_df, data_df, idx_df, cluster_id).batch(32)\n",
        "        predictions = forward_fill_predictions(model.predict(feature_ds, verbose=0))\n",
        "        cluster_idx_arr = idx_df[idx_df[cluster_col]==cluster_id][[index_col, cluster_col]].values                          \n",
        "        all_predictions.append(np.hstack([cluster_idx_arr, predictions]))                                                              \n",
        "    final_predictions = np.vstack(all_predictions)\n",
        "    return final_predictions[final_predictions[:, 0].argsort()]\n",
        "\n"
      ]
    },
    {
      "cell_type": "code",
      "execution_count": 25,
      "metadata": {
        "colab": {
          "base_uri": "https://localhost:8080/",
          "height": 758
        },
        "id": "6He21TAwNIz4",
        "outputId": "d135b16e-5b1e-484c-db28-ef4877ea2862"
      },
      "outputs": [
        {
          "data": {
            "image/png": "[encoded data removed]",
            "text/plain": [
              "<IPython.core.display.Image object>"
            ]
          },
          "execution_count": 25,
          "metadata": {},
          "output_type": "execute_result"
        }
      ],
      "source": [
        "tf.keras.utils.plot_model(create_model(), to_file=\"model.png\")"
      ]
    },
    {
      "cell_type": "markdown",
      "metadata": {
        "id": "mmFmioPeLR2c"
      },
      "source": [
        "**Model Training**"
      ]
    },
    {
      "cell_type": "markdown",
      "metadata": {
        "id": "csnl86VHbU3X"
      },
      "source": [
        "We used combination of LSTM (long short term memory), CNN, and dense layers to train the model."
      ]
    },
    {
      "cell_type": "code",
      "execution_count": 26,
      "metadata": {
        "colab": {
          "base_uri": "https://localhost:8080/"
        },
        "id": "ZlRmwxtgNIz5",
        "outputId": "0d27c779-214f-4bf3-b246-62343b84b92e",
        "scrolled": false
      },
      "outputs": [
        {
          "name": "stdout",
          "output_type": "stream",
          "text": [
            "CPU times: user 1min 54s, sys: 21.8 s, total: 2min 16s\n",
            "Wall time: 1min 25s\n"
          ]
        }
      ],
      "source": [
        "%%time\n",
        "# Due to random initialization, results will be different for every training cycle\n",
        "# so it is good idea to run training for different cycles and check the consistency of\n",
        "# the results\n",
        "def train_models(epochs=100, cycles=5):  \n",
        "    models = []\n",
        "    for i in range(cycles):\n",
        "        print(\"Model training cycle\", i)\n",
        "        model = create_model()\n",
        "        iter_model_location = os.path.join(base_model_location, \"iteration-{}\".format(i)) \n",
        "        model_path = os.path.join(iter_model_location, \"checkpoint\")\n",
        "        compile_and_fit(model, train_ds, val_ds, model_path, epochs=epochs, patience=3)\n",
        "        iter_best_model = create_model()\n",
        "        iter_best_model.load_weights(tf.train.latest_checkpoint(iter_model_location))\n",
        "        iter_best_model.compile(loss='mae', optimizer='Adamax')\n",
        "        clear_output()\n",
        "        models.append((iter_best_model, iter_model_location))\n",
        "\n",
        "    return models\n",
        "\n",
        "# Run with epoches=30 for better results\n",
        "iter_models = train_models(epochs=1, cycles=1)\n",
        "base_best_model, base_best_model_location = iter_models[0]\n",
        "\n",
        "# cluster_models = train_clusters(base_model=base_best_model)"
      ]
    },
    {
      "cell_type": "markdown",
      "metadata": {
        "id": "F76LEDJu5hCp"
      },
      "source": [
        "Results:"
      ]
    },
    {
      "cell_type": "code",
      "execution_count": 27,
      "metadata": {
        "colab": {
          "base_uri": "https://localhost:8080/"
        },
        "id": "-9s0IuEENIz5",
        "outputId": "64ceda28-a993-40d0-c687-690295fbd19d"
      },
      "outputs": [
        {
          "name": "stdout",
          "output_type": "stream",
          "text": [
            "Train loss: with base= 105.11174137602481\n",
            "Val loss: with base= 96.7350869157766\n",
            "Test loss: with base= 89.78371596670247\n",
            "\n",
            "\n",
            "CPU times: user 43.3 s, sys: 11.5 s, total: 54.8 s\n",
            "Wall time: 34.5 s\n"
          ]
        }
      ],
      "source": [
        "%%time\n",
        "train_preds_base_model = predict_with_base_model(base_best_model, train_ds, train_idx_df_boosted)\n",
        "val_preds_base_model = predict_with_base_model(base_best_model, val_ds, val_idx_df)\n",
        "test_preds_base_model = predict_with_base_model(base_best_model, test_ds, test_idx_df)\n",
        "\n",
        "train_errors = np.abs(np.subtract(train_target_ts_data, train_preds_base_model[:, -OUTPUT_STEPS:]))\n",
        "val_errors = np.abs(np.subtract(val_target_ts_data, val_preds_base_model[:, -OUTPUT_STEPS:]))\n",
        "test_errors = np.abs(np.subtract(test_target_ts_data, test_preds_base_model[:, -OUTPUT_STEPS:]))\n",
        "\n",
        "\n",
        "print(\"Train loss:\", \"with base=\", train_errors.mean())\n",
        "print(\"Val loss:\", \"with base=\", val_errors.mean())\n",
        "print(\"Test loss:\", \"with base=\", test_errors.mean())\n",
        "\n",
        "\n",
        "\n",
        "# train_errors_df = pd.concat([train_idx_df, pd.DataFrame(train_errors, columns=pred_df_cols)], axis=1)\n",
        "# val_errors_df = pd.concat([val_idx_df, pd.DataFrame(val_errors, columns=pred_df_cols)], axis=1)\n",
        "# test_errors_df = pd.concat([test_idx_df, pd.DataFrame(test_errors, columns=pred_df_cols)], axis=1)\n",
        "\n",
        "# train_preds_cluster_models = predict_with_single_cluster_model(cluster_models, train_data_df_scaled, \n",
        "#                                                            train_data_df, train_idx_df_boosted)\n",
        "# val_preds_cluster_models = predict_with_single_cluster_model(cluster_models, val_data_df_scaled,\n",
        "#                                                          val_data_df, val_idx_df)\n",
        "# test_preds_cluster_models = predict_with_single_cluster_model(cluster_models, test_data_df_scaled, \n",
        "#                                                           test_data_df, test_idx_df)\n",
        "\n",
        "# print(\"Train loss:\", \"with base=\", train_errors.mean(), \n",
        "#       \"with cluster=\", mean_absolute_error(train_target_ts_data, train_preds_cluster_models[:, -OUTPUT_STEPS:]))\n",
        "# print(\"Val loss:\", \"with base=\", val_errors.mean(), \n",
        "#       \"with cluster=\", mean_absolute_error(val_target_ts_data, val_preds_cluster_models[:, -OUTPUT_STEPS:]))\n",
        "# print(\"Test loss:\", \"with base=\", test_errors.mean(), \n",
        "#       \"with cluster=\", mean_absolute_error(test_target_ts_data, test_preds_cluster_models[:, -OUTPUT_STEPS:]))\n",
        "\n",
        "print(\"\\n\")"
      ]
    }
  ],
  "metadata": {
    "colab": {
      "collapsed_sections": [],
      "name": "L2_ShellAI_Hackathon_2021-Final.ipynb",
      "provenance": []
    },
    "kernelspec": {
      "display_name": "Python 3 (ipykernel)",
      "language": "python",
      "name": "python3"
    },
    "language_info": {
      "codemirror_mode": {
        "name": "ipython",
        "version": 3
      },
      "file_extension": ".py",
      "mimetype": "text/x-python",
      "name": "python",
      "nbconvert_exporter": "python",
      "pygments_lexer": "ipython3",
      "version": "3.8.10"
    }
  },
  "nbformat": 4,
  "nbformat_minor": 0
}
