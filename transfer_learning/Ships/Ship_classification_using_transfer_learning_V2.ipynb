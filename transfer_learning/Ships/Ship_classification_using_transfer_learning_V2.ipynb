{
  "cells": [
    {
      "cell_type": "markdown",
      "metadata": {
        "id": "4137e6e7"
      },
      "source": [
        "<a href=\"https://colab.research.google.com/github/dd-open-source/ml-projects/blob/main/transfer_learning/Ships/Ship_classification_using_transfer_learning_V2.ipynb\" target=\"_parent\"><img src=\"https://colab.research.google.com/assets/colab-badge.svg\" alt=\"Open In Colab\"/></a>"
      ],
      "id": "4137e6e7"
    },
    {
      "cell_type": "markdown",
      "metadata": {
        "id": "ad2550d9"
      },
      "source": [
        "This is our solution for [Analytics Vidhya Hackathon](https://datahack.analyticsvidhya.com/contest/game-of-deep-learning/) using pickle to store all images as single file. This reduced training time from 20 mins to 20 seconds."
      ],
      "id": "ad2550d9"
    },
    {
      "cell_type": "code",
      "execution_count": null,
      "metadata": {
        "colab": {
          "base_uri": "https://localhost:8080/"
        },
        "id": "KUXK8UUbFB-0",
        "outputId": "ce5a58df-94e8-4d5b-8ec0-cba58b7e6135"
      },
      "outputs": [
        {
          "name": "stdout",
          "output_type": "stream",
          "text": [
            "Mounted at /content/drive\n"
          ]
        }
      ],
      "source": [
        "# Comment this if you are not running in colab\n",
        "from google.colab import drive\n",
        "drive.mount('/content/drive', force_remount=True)"
      ],
      "id": "KUXK8UUbFB-0"
    },
    {
      "cell_type": "code",
      "execution_count": null,
      "metadata": {
        "colab": {
          "base_uri": "https://localhost:8080/"
        },
        "id": "U4_N4KS7ptQx",
        "outputId": "af1c5a7b-c25c-487c-f57a-0bfcb09aa0a4"
      },
      "outputs": [
        {
          "name": "stdout",
          "output_type": "stream",
          "text": [
            "Collecting tensorflow_addons\n",
            "  Downloading tensorflow_addons-0.15.0-cp37-cp37m-manylinux_2_12_x86_64.manylinux2010_x86_64.whl (1.1 MB)\n",
            "\u001b[?25l\r\u001b[K     |▎                               | 10 kB 19.0 MB/s eta 0:00:01\r\u001b[K     |▋                               | 20 kB 24.0 MB/s eta 0:00:01\r\u001b[K     |▉                               | 30 kB 27.0 MB/s eta 0:00:01\r\u001b[K     |█▏                              | 40 kB 22.4 MB/s eta 0:00:01\r\u001b[K     |█▌                              | 51 kB 8.9 MB/s eta 0:00:01\r\u001b[K     |█▊                              | 61 kB 10.2 MB/s eta 0:00:01\r\u001b[K     |██                              | 71 kB 9.7 MB/s eta 0:00:01\r\u001b[K     |██▍                             | 81 kB 10.7 MB/s eta 0:00:01\r\u001b[K     |██▋                             | 92 kB 11.2 MB/s eta 0:00:01\r\u001b[K     |███                             | 102 kB 8.3 MB/s eta 0:00:01\r\u001b[K     |███▎                            | 112 kB 8.3 MB/s eta 0:00:01\r\u001b[K     |███▌                            | 122 kB 8.3 MB/s eta 0:00:01\r\u001b[K     |███▉                            | 133 kB 8.3 MB/s eta 0:00:01\r\u001b[K     |████▏                           | 143 kB 8.3 MB/s eta 0:00:01\r\u001b[K     |████▍                           | 153 kB 8.3 MB/s eta 0:00:01\r\u001b[K     |████▊                           | 163 kB 8.3 MB/s eta 0:00:01\r\u001b[K     |█████                           | 174 kB 8.3 MB/s eta 0:00:01\r\u001b[K     |█████▎                          | 184 kB 8.3 MB/s eta 0:00:01\r\u001b[K     |█████▋                          | 194 kB 8.3 MB/s eta 0:00:01\r\u001b[K     |█████▉                          | 204 kB 8.3 MB/s eta 0:00:01\r\u001b[K     |██████▏                         | 215 kB 8.3 MB/s eta 0:00:01\r\u001b[K     |██████▌                         | 225 kB 8.3 MB/s eta 0:00:01\r\u001b[K     |██████▊                         | 235 kB 8.3 MB/s eta 0:00:01\r\u001b[K     |███████                         | 245 kB 8.3 MB/s eta 0:00:01\r\u001b[K     |███████▍                        | 256 kB 8.3 MB/s eta 0:00:01\r\u001b[K     |███████▋                        | 266 kB 8.3 MB/s eta 0:00:01\r\u001b[K     |████████                        | 276 kB 8.3 MB/s eta 0:00:01\r\u001b[K     |████████▎                       | 286 kB 8.3 MB/s eta 0:00:01\r\u001b[K     |████████▌                       | 296 kB 8.3 MB/s eta 0:00:01\r\u001b[K     |████████▉                       | 307 kB 8.3 MB/s eta 0:00:01\r\u001b[K     |█████████                       | 317 kB 8.3 MB/s eta 0:00:01\r\u001b[K     |█████████▍                      | 327 kB 8.3 MB/s eta 0:00:01\r\u001b[K     |█████████▊                      | 337 kB 8.3 MB/s eta 0:00:01\r\u001b[K     |██████████                      | 348 kB 8.3 MB/s eta 0:00:01\r\u001b[K     |██████████▎                     | 358 kB 8.3 MB/s eta 0:00:01\r\u001b[K     |██████████▋                     | 368 kB 8.3 MB/s eta 0:00:01\r\u001b[K     |██████████▉                     | 378 kB 8.3 MB/s eta 0:00:01\r\u001b[K     |███████████▏                    | 389 kB 8.3 MB/s eta 0:00:01\r\u001b[K     |███████████▌                    | 399 kB 8.3 MB/s eta 0:00:01\r\u001b[K     |███████████▊                    | 409 kB 8.3 MB/s eta 0:00:01\r\u001b[K     |████████████                    | 419 kB 8.3 MB/s eta 0:00:01\r\u001b[K     |████████████▍                   | 430 kB 8.3 MB/s eta 0:00:01\r\u001b[K     |████████████▋                   | 440 kB 8.3 MB/s eta 0:00:01\r\u001b[K     |█████████████                   | 450 kB 8.3 MB/s eta 0:00:01\r\u001b[K     |█████████████▎                  | 460 kB 8.3 MB/s eta 0:00:01\r\u001b[K     |█████████████▌                  | 471 kB 8.3 MB/s eta 0:00:01\r\u001b[K     |█████████████▉                  | 481 kB 8.3 MB/s eta 0:00:01\r\u001b[K     |██████████████                  | 491 kB 8.3 MB/s eta 0:00:01\r\u001b[K     |██████████████▍                 | 501 kB 8.3 MB/s eta 0:00:01\r\u001b[K     |██████████████▊                 | 512 kB 8.3 MB/s eta 0:00:01\r\u001b[K     |███████████████                 | 522 kB 8.3 MB/s eta 0:00:01\r\u001b[K     |███████████████▎                | 532 kB 8.3 MB/s eta 0:00:01\r\u001b[K     |███████████████▋                | 542 kB 8.3 MB/s eta 0:00:01\r\u001b[K     |███████████████▉                | 552 kB 8.3 MB/s eta 0:00:01\r\u001b[K     |████████████████▏               | 563 kB 8.3 MB/s eta 0:00:01\r\u001b[K     |████████████████▌               | 573 kB 8.3 MB/s eta 0:00:01\r\u001b[K     |████████████████▊               | 583 kB 8.3 MB/s eta 0:00:01\r\u001b[K     |█████████████████               | 593 kB 8.3 MB/s eta 0:00:01\r\u001b[K     |█████████████████▍              | 604 kB 8.3 MB/s eta 0:00:01\r\u001b[K     |█████████████████▋              | 614 kB 8.3 MB/s eta 0:00:01\r\u001b[K     |██████████████████              | 624 kB 8.3 MB/s eta 0:00:01\r\u001b[K     |██████████████████▏             | 634 kB 8.3 MB/s eta 0:00:01\r\u001b[K     |██████████████████▌             | 645 kB 8.3 MB/s eta 0:00:01\r\u001b[K     |██████████████████▉             | 655 kB 8.3 MB/s eta 0:00:01\r\u001b[K     |███████████████████             | 665 kB 8.3 MB/s eta 0:00:01\r\u001b[K     |███████████████████▍            | 675 kB 8.3 MB/s eta 0:00:01\r\u001b[K     |███████████████████▊            | 686 kB 8.3 MB/s eta 0:00:01\r\u001b[K     |████████████████████            | 696 kB 8.3 MB/s eta 0:00:01\r\u001b[K     |████████████████████▎           | 706 kB 8.3 MB/s eta 0:00:01\r\u001b[K     |████████████████████▋           | 716 kB 8.3 MB/s eta 0:00:01\r\u001b[K     |████████████████████▉           | 727 kB 8.3 MB/s eta 0:00:01\r\u001b[K     |█████████████████████▏          | 737 kB 8.3 MB/s eta 0:00:01\r\u001b[K     |█████████████████████▌          | 747 kB 8.3 MB/s eta 0:00:01\r\u001b[K     |█████████████████████▊          | 757 kB 8.3 MB/s eta 0:00:01\r\u001b[K     |██████████████████████          | 768 kB 8.3 MB/s eta 0:00:01\r\u001b[K     |██████████████████████▎         | 778 kB 8.3 MB/s eta 0:00:01\r\u001b[K     |██████████████████████▋         | 788 kB 8.3 MB/s eta 0:00:01\r\u001b[K     |███████████████████████         | 798 kB 8.3 MB/s eta 0:00:01\r\u001b[K     |███████████████████████▏        | 808 kB 8.3 MB/s eta 0:00:01\r\u001b[K     |███████████████████████▌        | 819 kB 8.3 MB/s eta 0:00:01\r\u001b[K     |███████████████████████▉        | 829 kB 8.3 MB/s eta 0:00:01\r\u001b[K     |████████████████████████        | 839 kB 8.3 MB/s eta 0:00:01\r\u001b[K     |████████████████████████▍       | 849 kB 8.3 MB/s eta 0:00:01\r\u001b[K     |████████████████████████▊       | 860 kB 8.3 MB/s eta 0:00:01\r\u001b[K     |█████████████████████████       | 870 kB 8.3 MB/s eta 0:00:01\r\u001b[K     |█████████████████████████▎      | 880 kB 8.3 MB/s eta 0:00:01\r\u001b[K     |█████████████████████████▋      | 890 kB 8.3 MB/s eta 0:00:01\r\u001b[K     |█████████████████████████▉      | 901 kB 8.3 MB/s eta 0:00:01\r\u001b[K     |██████████████████████████▏     | 911 kB 8.3 MB/s eta 0:00:01\r\u001b[K     |██████████████████████████▌     | 921 kB 8.3 MB/s eta 0:00:01\r\u001b[K     |██████████████████████████▊     | 931 kB 8.3 MB/s eta 0:00:01\r\u001b[K     |███████████████████████████     | 942 kB 8.3 MB/s eta 0:00:01\r\u001b[K     |███████████████████████████▎    | 952 kB 8.3 MB/s eta 0:00:01\r\u001b[K     |███████████████████████████▋    | 962 kB 8.3 MB/s eta 0:00:01\r\u001b[K     |████████████████████████████    | 972 kB 8.3 MB/s eta 0:00:01\r\u001b[K     |████████████████████████████▏   | 983 kB 8.3 MB/s eta 0:00:01\r\u001b[K     |████████████████████████████▌   | 993 kB 8.3 MB/s eta 0:00:01\r\u001b[K     |████████████████████████████▉   | 1.0 MB 8.3 MB/s eta 0:00:01\r\u001b[K     |█████████████████████████████   | 1.0 MB 8.3 MB/s eta 0:00:01\r\u001b[K     |█████████████████████████████▍  | 1.0 MB 8.3 MB/s eta 0:00:01\r\u001b[K     |█████████████████████████████▊  | 1.0 MB 8.3 MB/s eta 0:00:01\r\u001b[K     |██████████████████████████████  | 1.0 MB 8.3 MB/s eta 0:00:01\r\u001b[K     |██████████████████████████████▎ | 1.1 MB 8.3 MB/s eta 0:00:01\r\u001b[K     |██████████████████████████████▋ | 1.1 MB 8.3 MB/s eta 0:00:01\r\u001b[K     |██████████████████████████████▉ | 1.1 MB 8.3 MB/s eta 0:00:01\r\u001b[K     |███████████████████████████████▏| 1.1 MB 8.3 MB/s eta 0:00:01\r\u001b[K     |███████████████████████████████▍| 1.1 MB 8.3 MB/s eta 0:00:01\r\u001b[K     |███████████████████████████████▊| 1.1 MB 8.3 MB/s eta 0:00:01\r\u001b[K     |████████████████████████████████| 1.1 MB 8.3 MB/s \n",
            "\u001b[?25hRequirement already satisfied: typeguard>=2.7 in /usr/local/lib/python3.7/dist-packages (from tensorflow_addons) (2.7.1)\n",
            "Installing collected packages: tensorflow-addons\n",
            "Successfully installed tensorflow-addons-0.15.0\n"
          ]
        }
      ],
      "source": [
        "!pip install tensorflow_addons"
      ],
      "id": "U4_N4KS7ptQx"
    },
    {
      "cell_type": "markdown",
      "metadata": {
        "id": "ed90508d-fc4b-49bb-a2a6-6bdb6e8f1f7d"
      },
      "source": [
        "### Import Modules"
      ],
      "id": "ed90508d-fc4b-49bb-a2a6-6bdb6e8f1f7d"
    },
    {
      "cell_type": "code",
      "execution_count": null,
      "metadata": {
        "id": "83f2a0ad-05e3-41b9-b988-c7b4ca1ac58d"
      },
      "outputs": [],
      "source": [
        "import pandas as pd\n",
        "import numpy as np\n",
        "import matplotlib.pyplot as plt\n",
        "from PIL import Image\n",
        "from os import path, listdir\n",
        "import tensorflow as tf\n",
        "from tensorflow.keras.models import Sequential\n",
        "from tensorflow.keras import layers\n",
        "from tensorflow.keras.applications import resnet_v2, densenet\n",
        "from tensorflow.keras.preprocessing.image import ImageDataGenerator\n",
        "from sklearn.model_selection import train_test_split\n",
        "from google.colab import files\n",
        "import pickle\n",
        "import io\n",
        "import tensorflow_addons as tfa\n"
      ],
      "id": "83f2a0ad-05e3-41b9-b988-c7b4ca1ac58d"
    },
    {
      "cell_type": "markdown",
      "metadata": {
        "id": "8a0cbc01-1eeb-4513-862a-abd3acd1d239"
      },
      "source": [
        "### Defines reusable constants"
      ],
      "id": "8a0cbc01-1eeb-4513-862a-abd3acd1d239"
    },
    {
      "cell_type": "code",
      "execution_count": null,
      "metadata": {
        "id": "18f79ffb-291a-4d83-a0d0-3395220a0a5a"
      },
      "outputs": [],
      "source": [
        "# Data files: \n",
        "# Google drive: https://drive.google.com/file/d/1x5XrLOEhiwNO_hJLMFbfdrPQDEymki5z/view\n",
        "# Download the above data files from our google drive \n",
        "# to your google drive or local computer and update the below paths accordingly\n",
        "\n",
        "project_folder = '/content/drive/MyDrive/ML_Projects/Ships'\n",
        "data_dir = path.join(project_folder, 'data')\n",
        "models_path =path.join(project_folder, 'models')\n",
        "models_dir = path.join(models_path, \"base\")\n",
        "train_csv_path = path.join(data_dir, 'train.csv')\n",
        "test_csv_path = path.join(data_dir, 'test.csv')\n",
        "label_col = 'category_name'\n",
        "category_id_col = \"category\"\n",
        "image_names_col = 'image'\n",
        "image_idx_col = 'image_idx'\n",
        "images_dir = path.join(data_dir, \"images\")\n",
        "imgy = imgx = 320\n",
        "submission_csv_path = path.join(data_dir, 'submission.csv')\n",
        "categories_name_to_id = {'Cargo': 1,  'Military': 2,  'Carrier': 3, 'Cruise': 4, 'Tankers': 5}\n",
        "categories_id_to_name = { value:key for key,value in categories_name_to_id.items()}\n",
        "images_dump_path = path.join(data_dir, 'images.pkl')\n",
        "BATCH_SIZE = 32"
      ],
      "id": "18f79ffb-291a-4d83-a0d0-3395220a0a5a"
    },
    {
      "cell_type": "markdown",
      "metadata": {
        "id": "u99lkGs6bPcS"
      },
      "source": [
        "Define common functions"
      ],
      "id": "u99lkGs6bPcS"
    },
    {
      "cell_type": "code",
      "execution_count": null,
      "metadata": {
        "id": "71b0f60f-e709-4932-958f-e90f930771ed"
      },
      "outputs": [],
      "source": [
        "def get_image_id(img_name):\n",
        "    return int(img_name[:-4])\n",
        "\n",
        "def get_image(img_name, images_dump=None, images_name_to_id=None):\n",
        "    if images_dump is not None and images_name_to_id is not None:\n",
        "      img_path = io.BytesIO(images_dump[images_name_to_id[img_name]])\n",
        "    else:\n",
        "      img_path = path.join(images_dir, img_name)\n",
        "    return Image.open(img_path)\n",
        "\n",
        "# Shows a randomly selected images from data\n",
        "def showImages(df, n=1, images_dump=None, images_name_to_id=None):\n",
        "    cols = 5\n",
        "    rows = max(1, n//cols)\n",
        "    sample = df.sample(n=n).reset_index(drop=True)\n",
        "    for idx, row in sample.iterrows():\n",
        "      img = get_image(row[image_names_col], images_dump, images_name_to_id)\n",
        "      plt.subplot(rows, cols, idx+1)\n",
        "      plt.title(row[label_col])\n",
        "      plt.imshow(img)\n",
        "    plt.figure(figsize=(10, 20))\n",
        "    plt.show()\n",
        "\n",
        "\n",
        "def get_file_bytes(parenet_dir, file_name):\n",
        "  with open(path.join(parenet_dir, file_name), 'rb') as f:\n",
        "    return f.read()\n",
        "\n",
        "def dump_files_as_pickle(parent_dir, dump_file_path):\n",
        "  if path.exists(dump_file_path):\n",
        "    print(\"Dump file exists so skipping\")\n",
        "    return\n",
        "  file_names = listdir(parent_dir)\n",
        "  files_dump = []\n",
        "  for file_name in file_names:\n",
        "    files_dump.append(get_file_bytes(parent_dir, file_name))\n",
        "\n",
        "  files_dict = {\"parent_dir\": parent_dir, \"file_names\": file_names, \"files_dump\": files_dump}\n",
        "  with open(dump_file_path, 'wb') as fh:\n",
        "    pickle.dump(files_dict, fh)\n",
        "\n",
        "def sample_beta_distribution(size, concentration_0=0.2, concentration_1=0.2):\n",
        "    gamma_1_sample = tf.random.gamma(shape=[size], alpha=concentration_1)\n",
        "    gamma_2_sample = tf.random.gamma(shape=[size], alpha=concentration_0)\n",
        "    return gamma_1_sample / (gamma_1_sample + gamma_2_sample)\n",
        "\n",
        "\n",
        "def mix_up(ds_one, ds_two, alpha=0.2):\n",
        "  # Unpack two datasets\n",
        "  images_one, labels_one = ds_one\n",
        "  images_two, labels_two = ds_two\n",
        "  batch_size = tf.shape(images_one)[0]\n",
        "\n",
        "  # Sample lambda and reshape it to do the mixup\n",
        "  l = sample_beta_distribution(batch_size, alpha, alpha)\n",
        "  x_l = tf.reshape(l, (batch_size, 1, 1, 1))\n",
        "  y_l = tf.reshape(l, (batch_size, 1))\n",
        "\n",
        "  # Perform mixup on both images and labels by combining a pair of images/labels\n",
        "  # (one from each dataset) into one image/label\n",
        "  images = images_one * x_l + images_two * (1 - x_l)\n",
        "  labels = labels_one * y_l + labels_two * (1 - y_l)\n",
        "  return (images, labels)\n",
        "\n",
        "def create_images_dataset(images_tensor, df, training=False):\n",
        "  def generate_random_angle():\n",
        "    return tf.random.uniform([], 0, 20)*np.pi/180\n",
        "\n",
        "  def augment_image(img):\n",
        "    img = tfa.image.rotate(img, generate_random_angle(), fill_mode='nearest')\n",
        "    img = tf.image.random_flip_left_right(img)\n",
        "    return img\n",
        "\n",
        "  def extract_image(img_idx):\n",
        "    image_string = images_tensor[img_idx]\n",
        "    img = tf.image.decode_jpeg(image_string, channels=3)\n",
        "    return tf.image.resize(img, [imgy, imgx], antialias=True)\n",
        "\n",
        "  ds = tf.data.Dataset.from_tensor_slices(df[image_idx_col])\n",
        "  ds = ds.map(extract_image)\n",
        "  if training:\n",
        "    ds = ds.map(augment_image)\n",
        "  return ds\n",
        "\n",
        "def create_labels_dataset(df):\n",
        "  one_hot_tensor = tf.one_hot(tf.range(5), 5)\n",
        "  def convert_label_to_one_hot_tensor(label):\n",
        "    # Our label index starts with 1\n",
        "    return one_hot_tensor[label-1]\n",
        "  label_ds = tf.data.Dataset.from_tensor_slices(df[category_id_col])\n",
        "  return  label_ds.map(convert_label_to_one_hot_tensor)\n",
        "\n",
        "def create_dataset_with_labels(images_tensor, df, training=False):\n",
        "  img_ds = create_images_dataset(images_tensor, df, training=training)\n",
        "  label_ds = create_labels_dataset(df)\n",
        "  ds = tf.data.Dataset.zip((img_ds, label_ds))\n",
        "  if training:\n",
        "    ds = ds.shuffle(BATCH_SIZE*100)\n",
        "  return ds.batch(BATCH_SIZE)"
      ],
      "id": "71b0f60f-e709-4932-958f-e90f930771ed"
    },
    {
      "cell_type": "code",
      "execution_count": null,
      "metadata": {
        "colab": {
          "base_uri": "https://localhost:8080/"
        },
        "id": "rhxt9b2iHb3Y",
        "outputId": "18d148a8-eb4b-4991-8f8b-48b2d664c6e3"
      },
      "outputs": [
        {
          "name": "stdout",
          "output_type": "stream",
          "text": [
            "Dump file exists so skipping\n"
          ]
        }
      ],
      "source": [
        "dump_files_as_pickle(images_dir, images_dump_path)"
      ],
      "id": "rhxt9b2iHb3Y"
    },
    {
      "cell_type": "markdown",
      "metadata": {
        "id": "f252b070-3d27-46c2-ba53-19efb38a1225"
      },
      "source": [
        "### Load data"
      ],
      "id": "f252b070-3d27-46c2-ba53-19efb38a1225"
    },
    {
      "cell_type": "code",
      "execution_count": null,
      "metadata": {
        "colab": {
          "base_uri": "https://localhost:8080/",
          "height": 241
        },
        "id": "16cf4fc2-4e03-43c1-a63a-a933a657d232",
        "outputId": "78507c12-5707-4a0f-80aa-b046402f7004"
      },
      "outputs": [
        {
          "name": "stdout",
          "output_type": "stream",
          "text": [
            "images_dump keys dict_keys(['parent_dir', 'file_names', 'files_dump']) \n",
            "num image files 8932\n"
          ]
        },
        {
          "data": {
            "text/html": [
              "\n",
              "  <div id=\"df-c4a89afa-9c1e-40ee-a6bb-0fd652c2b1ba\">\n",
              "    <div class=\"colab-df-container\">\n",
              "      <div>\n",
              "<style scoped>\n",
              "    .dataframe tbody tr th:only-of-type {\n",
              "        vertical-align: middle;\n",
              "    }\n",
              "\n",
              "    .dataframe tbody tr th {\n",
              "        vertical-align: top;\n",
              "    }\n",
              "\n",
              "    .dataframe thead th {\n",
              "        text-align: right;\n",
              "    }\n",
              "</style>\n",
              "<table border=\"1\" class=\"dataframe\">\n",
              "  <thead>\n",
              "    <tr style=\"text-align: right;\">\n",
              "      <th></th>\n",
              "      <th>image</th>\n",
              "      <th>category</th>\n",
              "      <th>category_name</th>\n",
              "      <th>image_idx</th>\n",
              "    </tr>\n",
              "  </thead>\n",
              "  <tbody>\n",
              "    <tr>\n",
              "      <th>0</th>\n",
              "      <td>2823080.jpg</td>\n",
              "      <td>1</td>\n",
              "      <td>Cargo</td>\n",
              "      <td>3735</td>\n",
              "    </tr>\n",
              "    <tr>\n",
              "      <th>1</th>\n",
              "      <td>2870024.jpg</td>\n",
              "      <td>1</td>\n",
              "      <td>Cargo</td>\n",
              "      <td>5246</td>\n",
              "    </tr>\n",
              "    <tr>\n",
              "      <th>2</th>\n",
              "      <td>2662125.jpg</td>\n",
              "      <td>2</td>\n",
              "      <td>Military</td>\n",
              "      <td>8426</td>\n",
              "    </tr>\n",
              "    <tr>\n",
              "      <th>3</th>\n",
              "      <td>2900420.jpg</td>\n",
              "      <td>3</td>\n",
              "      <td>Carrier</td>\n",
              "      <td>8637</td>\n",
              "    </tr>\n",
              "    <tr>\n",
              "      <th>4</th>\n",
              "      <td>2804883.jpg</td>\n",
              "      <td>2</td>\n",
              "      <td>Military</td>\n",
              "      <td>6320</td>\n",
              "    </tr>\n",
              "  </tbody>\n",
              "</table>\n",
              "</div>\n",
              "      <button class=\"colab-df-convert\" onclick=\"convertToInteractive('df-c4a89afa-9c1e-40ee-a6bb-0fd652c2b1ba')\"\n",
              "              title=\"Convert this dataframe to an interactive table.\"\n",
              "              style=\"display:none;\">\n",
              "        \n",
              "  <svg xmlns=\"http://www.w3.org/2000/svg\" height=\"24px\"viewBox=\"0 0 24 24\"\n",
              "       width=\"24px\">\n",
              "    <path d=\"M0 0h24v24H0V0z\" fill=\"none\"/>\n",
              "    <path d=\"M18.56 5.44l.94 2.06.94-2.06 2.06-.94-2.06-.94-.94-2.06-.94 2.06-2.06.94zm-11 1L8.5 8.5l.94-2.06 2.06-.94-2.06-.94L8.5 2.5l-.94 2.06-2.06.94zm10 10l.94 2.06.94-2.06 2.06-.94-2.06-.94-.94-2.06-.94 2.06-2.06.94z\"/><path d=\"M17.41 7.96l-1.37-1.37c-.4-.4-.92-.59-1.43-.59-.52 0-1.04.2-1.43.59L10.3 9.45l-7.72 7.72c-.78.78-.78 2.05 0 2.83L4 21.41c.39.39.9.59 1.41.59.51 0 1.02-.2 1.41-.59l7.78-7.78 2.81-2.81c.8-.78.8-2.07 0-2.86zM5.41 20L4 18.59l7.72-7.72 1.47 1.35L5.41 20z\"/>\n",
              "  </svg>\n",
              "      </button>\n",
              "      \n",
              "  <style>\n",
              "    .colab-df-container {\n",
              "      display:flex;\n",
              "      flex-wrap:wrap;\n",
              "      gap: 12px;\n",
              "    }\n",
              "\n",
              "    .colab-df-convert {\n",
              "      background-color: #E8F0FE;\n",
              "      border: none;\n",
              "      border-radius: 50%;\n",
              "      cursor: pointer;\n",
              "      display: none;\n",
              "      fill: #1967D2;\n",
              "      height: 32px;\n",
              "      padding: 0 0 0 0;\n",
              "      width: 32px;\n",
              "    }\n",
              "\n",
              "    .colab-df-convert:hover {\n",
              "      background-color: #E2EBFA;\n",
              "      box-shadow: 0px 1px 2px rgba(60, 64, 67, 0.3), 0px 1px 3px 1px rgba(60, 64, 67, 0.15);\n",
              "      fill: #174EA6;\n",
              "    }\n",
              "\n",
              "    [theme=dark] .colab-df-convert {\n",
              "      background-color: #3B4455;\n",
              "      fill: #D2E3FC;\n",
              "    }\n",
              "\n",
              "    [theme=dark] .colab-df-convert:hover {\n",
              "      background-color: #434B5C;\n",
              "      box-shadow: 0px 1px 3px 1px rgba(0, 0, 0, 0.15);\n",
              "      filter: drop-shadow(0px 1px 2px rgba(0, 0, 0, 0.3));\n",
              "      fill: #FFFFFF;\n",
              "    }\n",
              "  </style>\n",
              "\n",
              "      <script>\n",
              "        const buttonEl =\n",
              "          document.querySelector('#df-c4a89afa-9c1e-40ee-a6bb-0fd652c2b1ba button.colab-df-convert');\n",
              "        buttonEl.style.display =\n",
              "          google.colab.kernel.accessAllowed ? 'block' : 'none';\n",
              "\n",
              "        async function convertToInteractive(key) {\n",
              "          const element = document.querySelector('#df-c4a89afa-9c1e-40ee-a6bb-0fd652c2b1ba');\n",
              "          const dataTable =\n",
              "            await google.colab.kernel.invokeFunction('convertToInteractive',\n",
              "                                                     [key], {});\n",
              "          if (!dataTable) return;\n",
              "\n",
              "          const docLinkHtml = 'Like what you see? Visit the ' +\n",
              "            '<a target=\"_blank\" href=https://colab.research.google.com/notebooks/data_table.ipynb>data table notebook</a>'\n",
              "            + ' to learn more about interactive tables.';\n",
              "          element.innerHTML = '';\n",
              "          dataTable['output_type'] = 'display_data';\n",
              "          await google.colab.output.renderOutput(dataTable, element);\n",
              "          const docLink = document.createElement('div');\n",
              "          docLink.innerHTML = docLinkHtml;\n",
              "          element.appendChild(docLink);\n",
              "        }\n",
              "      </script>\n",
              "    </div>\n",
              "  </div>\n",
              "  "
            ],
            "text/plain": [
              "         image  category category_name  image_idx\n",
              "0  2823080.jpg         1         Cargo       3735\n",
              "1  2870024.jpg         1         Cargo       5246\n",
              "2  2662125.jpg         2      Military       8426\n",
              "3  2900420.jpg         3       Carrier       8637\n",
              "4  2804883.jpg         2      Military       6320"
            ]
          },
          "execution_count": 9,
          "metadata": {},
          "output_type": "execute_result"
        }
      ],
      "source": [
        "with open(images_dump_path, \"rb\") as f:\n",
        "  images_dump = pickle.load(f)\n",
        "images_name_to_id = { name:idx for idx, name in enumerate(images_dump['file_names'])}\n",
        "print(\"images_dump keys\", images_dump.keys(), \"\\nnum image files\", len(images_dump['file_names']))\n",
        "\n",
        "train_df = pd.read_csv(train_csv_path)\n",
        "train_df[label_col] = train_df[category_id_col].map(categories_id_to_name)\n",
        "train_df[image_idx_col] = train_df[image_names_col].map(images_name_to_id)\n",
        "test_df = pd.read_csv(test_csv_path)\n",
        "test_df[image_idx_col] = test_df[image_names_col].map(images_name_to_id)\n",
        "\n",
        "train_df.head()"
      ],
      "id": "16cf4fc2-4e03-43c1-a63a-a933a657d232"
    },
    {
      "cell_type": "code",
      "execution_count": null,
      "metadata": {
        "colab": {
          "base_uri": "https://localhost:8080/",
          "height": 120
        },
        "id": "YWxBhJirqQyr",
        "outputId": "3d23b3d7-95ee-40f1-e0ec-26c9288374f6"
      },
      "outputs": [
        {
          "data": {
            "image/png": "[encoded data removed]",
            "text/plain": [
              "<Figure size 432x288 with 5 Axes>"
            ]
          },
          "metadata": {},
          "output_type": "display_data"
        },
        {
          "data": {
            "text/plain": [
              "<Figure size 720x1440 with 0 Axes>"
            ]
          },
          "metadata": {},
          "output_type": "display_data"
        }
      ],
      "source": [
        "showImages(train_df, n=5, images_dump=images_dump['files_dump'], images_name_to_id=images_name_to_id)"
      ],
      "id": "YWxBhJirqQyr"
    },
    {
      "cell_type": "markdown",
      "metadata": {
        "id": "emej8czCKpDf"
      },
      "source": [
        "Prepare images dump tensors"
      ],
      "id": "emej8czCKpDf"
    },
    {
      "cell_type": "code",
      "execution_count": null,
      "metadata": {
        "id": "JE1m5sRuKoko"
      },
      "outputs": [],
      "source": [
        "all_images_tensor = tf.convert_to_tensor(images_dump['files_dump'])"
      ],
      "id": "JE1m5sRuKoko"
    },
    {
      "cell_type": "markdown",
      "metadata": {
        "id": "2a3a1a38-761b-473d-a917-a223fab1b3e8"
      },
      "source": [
        "### Prepare datasets for training and validation"
      ],
      "id": "2a3a1a38-761b-473d-a917-a223fab1b3e8"
    },
    {
      "cell_type": "code",
      "execution_count": null,
      "metadata": {
        "id": "4cd6166d-071b-40f0-9426-18dea7dbd83c"
      },
      "outputs": [],
      "source": [
        "train_data, val_data = train_test_split(train_df, test_size=0.2)\n",
        "# Mixup training images\n",
        "train_ds1 = create_dataset_with_labels(all_images_tensor, train_data, training=True)\n",
        "train_ds2 = create_dataset_with_labels(all_images_tensor, train_data, training=True)\n",
        "train_ds = tf.data.Dataset.zip((train_ds1, train_ds2)).map(\n",
        "    lambda ds_one, ds_two: mix_up(ds_one, ds_two, alpha=0.2), num_parallel_calls=tf.data.AUTOTUNE\n",
        ").prefetch(tf.data.AUTOTUNE)\n",
        "\n",
        "val_ds = create_dataset_with_labels(all_images_tensor, val_data).prefetch(tf.data.AUTOTUNE)\n",
        "test_ds = create_images_dataset(all_images_tensor, test_df).batch(BATCH_SIZE)\n",
        "\n",
        "# Let's preview 9 samples from the dataset\n",
        "plt.figure(figsize=(10, 10))\n",
        "for sample in train_ds.take(1):\n",
        "  for (image, label) in zip(sample[0][:9], sample[1][:9]):\n",
        "      plt.imshow(image.numpy().squeeze().astype(np.uint8))\n",
        "      print(label.numpy())\n",
        "      plt.axis(\"off\")\n",
        "      plt.show()\n"
      ],
      "id": "4cd6166d-071b-40f0-9426-18dea7dbd83c"
    },
    {
      "cell_type": "markdown",
      "metadata": {
        "id": "b52dd1fc-b09d-4bd8-be6d-7b54a75804d5"
      },
      "source": [
        "### Training deep neaural network using Tensorflow"
      ],
      "id": "b52dd1fc-b09d-4bd8-be6d-7b54a75804d5"
    },
    {
      "cell_type": "markdown",
      "metadata": {
        "id": "JL4feRv_bp2b"
      },
      "source": [
        "**Transfer learning**: We are using ResNet model for image classification.\n",
        "1. In 1st phase, we train our model by freezing keeping pre_trained_model (i.e setting trainable=False)\n",
        "1. In 2nd phase, we train our model by unfreezing keeping pre_trained_model (i.e setting trainable=True) but with very small learning_rate"
      ],
      "id": "JL4feRv_bp2b"
    },
    {
      "cell_type": "code",
      "execution_count": null,
      "metadata": {
        "id": "aa2b2db3-253b-47ed-b05a-d6e55a6b5996"
      },
      "outputs": [],
      "source": [
        "class LRFind(tf.keras.callbacks.Callback): \n",
        "    def __init__(self, min_lr, max_lr, n_rounds): \n",
        "        self.min_lr = min_lr\n",
        "        self.max_lr = max_lr\n",
        "        self.step_up = (max_lr / min_lr) ** (1 / n_rounds)\n",
        "        self.lrs = []\n",
        "        self.losses = []\n",
        "     \n",
        "    def on_train_begin(self, logs=None):\n",
        "        self.weights = self.model.get_weights()\n",
        "        self.model.optimizer.lr = self.min_lr\n",
        "\n",
        "    def on_train_batch_end(self, batch, logs=None):\n",
        "        self.lrs.append(self.model.optimizer.lr.numpy())\n",
        "        self.losses.append(logs[\"loss\"])\n",
        "        self.model.optimizer.lr = self.model.optimizer.lr * self.step_up\n",
        "        if self.model.optimizer.lr > self.max_lr:\n",
        "            self.model.stop_training = True\n",
        "        \n",
        "    def on_train_end(self, logs=None):\n",
        "        self.model.set_weights(self.weights)\n",
        "\n",
        "def create_model(trainable=False):\n",
        "    pre_trained_model = densenet.DenseNet169(include_top=False, pooling='max', weights='imagenet', input_shape=(imgy, imgx, 3))\n",
        "    input = tf.keras.Input(shape=(imgy, imgx, 3))\n",
        "    output = resnet_v2.preprocess_input(input)\n",
        "    output = pre_trained_model(output, training=False)\n",
        "    output = layers.Dropout(0.2)(output)\n",
        "    output = layers.Dense(5, activation=\"softmax\")(output)\n",
        "    pre_trained_model.trainable=trainable\n",
        "    model = tf.keras.Model(input, output)\n",
        "    return model\n",
        "\n",
        "\n",
        "def compile_and_fit(model, train_ds, val_ds, model_path, learning_rate=0.01, epochs=5, patience=3, current_best_model=None):\n",
        "  early_stopping = tf.keras.callbacks.EarlyStopping(monitor='val_f1_score', patience=patience, mode='max')\n",
        "  model_checkpoint_callback = tf.keras.callbacks.ModelCheckpoint(filepath=model_path, monitor='val_f1_score',\n",
        "                                                                  mode='max', save_weights_only=True, save_best_only=True)\n",
        "  callbacks = [early_stopping, model_checkpoint_callback]\n",
        "\n",
        "  optimizers = [\n",
        "      tf.keras.optimizers.Adam(learning_rate=1e-4),\n",
        "      tf.keras.optimizers.Adam(learning_rate=tf.keras.optimizers.schedules.CosineDecay(learning_rate, 2000, 1e-4))\n",
        "  ]\n",
        "  optimizers_and_layers = [(optimizers[0], model.layers[:-1]), (optimizers[1], model.layers[-1])]\n",
        "  optimizer = tfa.optimizers.MultiOptimizer(optimizers_and_layers)\n",
        "  model.compile(loss=tf.keras.losses.CategoricalCrossentropy(), metrics=[tfa.metrics.F1Score(5, average=\"weighted\")], optimizer=optimizer)\n",
        "  \n",
        "  if current_best_model is not None:\n",
        "    model.set_weights(current_best_model.get_weights())\n",
        "\n",
        "  train_log = model.fit(train_ds, epochs=epochs, validation_data=val_ds, callbacks=callbacks)\n",
        "  best_model = create_model()\n",
        "  best_model.load_weights(tf.train.latest_checkpoint(models_dir))\n",
        "  return best_model, train_log\n"
      ],
      "id": "aa2b2db3-253b-47ed-b05a-d6e55a6b5996"
    },
    {
      "cell_type": "markdown",
      "metadata": {
        "id": "dHihpN5lwfog"
      },
      "source": [
        "**Find best learning rate**"
      ],
      "id": "dHihpN5lwfog"
    },
    {
      "cell_type": "code",
      "execution_count": null,
      "metadata": {
        "colab": {
          "base_uri": "https://localhost:8080/",
          "height": 338
        },
        "id": "AkAwR07TwKTb",
        "outputId": "4d91af6a-5c58-4cdc-bcb1-3fc97ddafd63"
      },
      "outputs": [
        {
          "name": "stdout",
          "output_type": "stream",
          "text": [
            "Downloading data from https://storage.googleapis.com/tensorflow/keras-applications/resnet/resnet50v2_weights_tf_dim_ordering_tf_kernels_notop.h5\n",
            "94674944/94668760 [==============================] - 1s 0us/step\n",
            "94683136/94668760 [==============================] - 1s 0us/step\n",
            "150/150 [==============================] - 27s 56ms/step - loss: 12.4876 - accuracy: 0.3250\n"
          ]
        },
        {
          "data": {
            "image/png": "[encoded data removed]",
            "text/plain": [
              "<Figure size 432x288 with 1 Axes>"
            ]
          },
          "metadata": {},
          "output_type": "display_data"
        }
      ],
      "source": [
        "EPOCHS = 1\n",
        "BATCH_SIZE = 32\n",
        "lr_finder_steps = 150\n",
        "lr_find = LRFind(1e-6, 1, lr_finder_steps)\n",
        "model = create_model()\n",
        "model.compile(loss=tf.keras.losses.CategoricalCrossentropy(), metrics=['accuracy'], \n",
        "                  optimizer=\"Adamax\")\n",
        "model.fit(\n",
        "    train_ds,\n",
        "    steps_per_epoch=lr_finder_steps,\n",
        "    epochs=EPOCHS,\n",
        "    callbacks=[lr_find]\n",
        ")\n",
        "\n",
        "plt.plot(lr_find.lrs, lr_find.losses)\n",
        "plt.xscale('log')\n",
        "plt.show()"
      ],
      "id": "AkAwR07TwKTb"
    },
    {
      "cell_type": "markdown",
      "metadata": {
        "id": "GSAqhnueyri6"
      },
      "source": [
        "Best learning rate is  between 0.01 to 0.1 from the graph and let us select lr as 0.01 to on safe side"
      ],
      "id": "GSAqhnueyri6"
    },
    {
      "cell_type": "markdown",
      "metadata": {
        "id": "fYQknCgdEZ-g"
      },
      "source": [
        "Fast training phase by freezing the pre-trained-model and followed by \n",
        "slow training phase by unfreezing the pre-trained model."
      ],
      "id": "fYQknCgdEZ-g"
    },
    {
      "cell_type": "code",
      "execution_count": null,
      "metadata": {
        "id": "0da91eae-f124-49f2-bd87-c58c858ef2b2"
      },
      "outputs": [],
      "source": [
        "model = create_model()\n",
        "print(model.summary())\n",
        "model_path = path.join(models_dir, \"best\")\n",
        "print(\"We start with higher learning rate and gradually decrease it as we train more and more\")\n",
        "# Training takes less time so we can run for more epochs\n",
        "best_fast_model, train_log = compile_and_fit(model, train_ds, val_ds, model_path, learning_rate=0.1, epochs=30, patience=5)\n",
        "best_model, train_log = compile_and_fit(create_model(trainable=True), train_ds, val_ds, model_path, learning_rate=1e-4, epochs=30,\n",
        "                                        patience=5, current_best_model=best_fast_model)"
      ],
      "id": "0da91eae-f124-49f2-bd87-c58c858ef2b2"
    },
    {
      "cell_type": "markdown",
      "metadata": {
        "id": "jb49710c2QX8"
      },
      "source": [
        "#### Check results on test dataset"
      ],
      "id": "jb49710c2QX8"
    },
    {
      "cell_type": "code",
      "execution_count": null,
      "metadata": {
        "id": "2d7ffe84-3479-4298-9b5f-cec0cf378dae"
      },
      "outputs": [],
      "source": [
        "# Create best model from saved weights\n",
        "test_predictions = best_model.predict(test_ds)\n",
        "# Our label index starts with 1\n",
        "test_df[category_id_col] = pd.Series(np.argmax(test_predictions, axis=1)+1)\n",
        "test_df[label_col] = test_df[category_id_col].map(categories_id_to_name)"
      ],
      "id": "2d7ffe84-3479-4298-9b5f-cec0cf378dae"
    },
    {
      "cell_type": "code",
      "execution_count": null,
      "metadata": {
        "colab": {
          "base_uri": "https://localhost:8080/",
          "height": 242
        },
        "id": "72r4h8eXq5Zv",
        "outputId": "5fa14af4-b14e-40c3-a2a4-b03a1abda01c"
      },
      "outputs": [
        {
          "data": {
            "image/png": "[encoded data removed]",
            "text/plain": [
              "<Figure size 432x288 with 10 Axes>"
            ]
          },
          "metadata": {},
          "output_type": "display_data"
        },
        {
          "data": {
            "text/plain": [
              "<Figure size 720x1440 with 0 Axes>"
            ]
          },
          "metadata": {},
          "output_type": "display_data"
        }
      ],
      "source": [
        "showImages(test_df, n=10, images_dump=images_dump['files_dump'], images_name_to_id=images_name_to_id)"
      ],
      "id": "72r4h8eXq5Zv"
    },
    {
      "cell_type": "markdown",
      "metadata": {
        "id": "mKMWVNCz462I"
      },
      "source": [
        "**Create Submission file**"
      ],
      "id": "mKMWVNCz462I"
    },
    {
      "cell_type": "code",
      "execution_count": null,
      "metadata": {
        "colab": {
          "base_uri": "https://localhost:8080/",
          "height": 17
        },
        "id": "muilCQq_MyZ7",
        "outputId": "bf4195f1-136d-4d2d-adb3-5e1a28319d5f"
      },
      "outputs": [
        {
          "output_type": "display_data",
          "data": {
            "application/javascript": [
              "\n",
              "    async function download(id, filename, size) {\n",
              "      if (!google.colab.kernel.accessAllowed) {\n",
              "        return;\n",
              "      }\n",
              "      const div = document.createElement('div');\n",
              "      const label = document.createElement('label');\n",
              "      label.textContent = `Downloading \"${filename}\": `;\n",
              "      div.appendChild(label);\n",
              "      const progress = document.createElement('progress');\n",
              "      progress.max = size;\n",
              "      div.appendChild(progress);\n",
              "      document.body.appendChild(div);\n",
              "\n",
              "      const buffers = [];\n",
              "      let downloaded = 0;\n",
              "\n",
              "      const channel = await google.colab.kernel.comms.open(id);\n",
              "      // Send a message to notify the kernel that we're ready.\n",
              "      channel.send({})\n",
              "\n",
              "      for await (const message of channel.messages) {\n",
              "        // Send a message to notify the kernel that we're ready.\n",
              "        channel.send({})\n",
              "        if (message.buffers) {\n",
              "          for (const buffer of message.buffers) {\n",
              "            buffers.push(buffer);\n",
              "            downloaded += buffer.byteLength;\n",
              "            progress.value = downloaded;\n",
              "          }\n",
              "        }\n",
              "      }\n",
              "      const blob = new Blob(buffers, {type: 'application/binary'});\n",
              "      const a = document.createElement('a');\n",
              "      a.href = window.URL.createObjectURL(blob);\n",
              "      a.download = filename;\n",
              "      div.appendChild(a);\n",
              "      a.click();\n",
              "      div.remove();\n",
              "    }\n",
              "  "
            ],
            "text/plain": [
              "<IPython.core.display.Javascript object>"
            ]
          },
          "metadata": {}
        },
        {
          "output_type": "display_data",
          "data": {
            "application/javascript": [
              "download(\"download_8326d793-cd6b-4de0-b0ff-8ee09e76379a\", \"submission.csv\", 37443)"
            ],
            "text/plain": [
              "<IPython.core.display.Javascript object>"
            ]
          },
          "metadata": {}
        }
      ],
      "source": [
        "test_df[[image_names_col, category_id_col]].to_csv(submission_csv_path, index=False)\n",
        "files.download(submission_csv_path)"
      ],
      "id": "muilCQq_MyZ7"
    },
    {
      "cell_type": "code",
      "execution_count": null,
      "metadata": {
        "id": "vq4pnfzTIUMG"
      },
      "outputs": [],
      "source": [
        ""
      ],
      "id": "vq4pnfzTIUMG"
    }
  ],
  "metadata": {
    "accelerator": "GPU",
    "colab": {
      "collapsed_sections": [],
      "name": "Ship_classification_using_transfer_learning_V2.ipynb",
      "provenance": []
    },
    "kernelspec": {
      "display_name": "Python 3 (ipykernel)",
      "language": "python",
      "name": "python3"
    },
    "language_info": {
      "codemirror_mode": {
        "name": "ipython",
        "version": 3
      },
      "file_extension": ".py",
      "mimetype": "text/x-python",
      "name": "python",
      "nbconvert_exporter": "python",
      "pygments_lexer": "ipython3",
      "version": "3.9.7"
    }
  },
  "nbformat": 4,
  "nbformat_minor": 5
}