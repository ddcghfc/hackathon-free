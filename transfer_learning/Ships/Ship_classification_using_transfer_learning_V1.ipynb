{
  "cells": [
    {
      "cell_type": "markdown",
      "id": "4137e6e7",
      "metadata": {
        "id": "4137e6e7"
      },
      "source": [
        "<a href=\"https://colab.research.google.com/github/dd-open-source/ml-projects/blob/main/transfer_learning/Ships/Ship_classification_using_transfer_learning_V1.ipynb\" target=\"_parent\"><img src=\"https://colab.research.google.com/assets/colab-badge.svg\" alt=\"Open In Colab\"/></a>"
      ]
    },
    {
      "cell_type": "markdown",
      "id": "ad2550d9",
      "metadata": {
        "id": "ad2550d9"
      },
      "source": [
        "This is our solution for [Analytics Vidhya Hackathon](https://datahack.analyticsvidhya.com/contest/game-of-deep-learning/)"
      ]
    },
    {
      "cell_type": "code",
      "execution_count": null,
      "id": "KUXK8UUbFB-0",
      "metadata": {
        "colab": {
          "base_uri": "https://localhost:8080/"
        },
        "id": "KUXK8UUbFB-0",
        "outputId": "7abdbf57-7ca4-4d8d-a799-fb54658fae2d"
      },
      "outputs": [
        {
          "output_type": "stream",
          "name": "stdout",
          "text": [
            "Mounted at /content/drive\n"
          ]
        }
      ],
      "source": [
        "# Comment this if you are not running in colab\n",
        "from google.colab import drive\n",
        "drive.mount('/content/drive', force_remount=True)"
      ]
    },
    {
      "cell_type": "markdown",
      "id": "ed90508d-fc4b-49bb-a2a6-6bdb6e8f1f7d",
      "metadata": {
        "id": "ed90508d-fc4b-49bb-a2a6-6bdb6e8f1f7d"
      },
      "source": [
        "### Import Modules"
      ]
    },
    {
      "cell_type": "code",
      "execution_count": null,
      "id": "83f2a0ad-05e3-41b9-b988-c7b4ca1ac58d",
      "metadata": {
        "id": "83f2a0ad-05e3-41b9-b988-c7b4ca1ac58d"
      },
      "outputs": [],
      "source": [
        "import pandas as pd\n",
        "import numpy as np\n",
        "import matplotlib.pyplot as plt\n",
        "from PIL import Image\n",
        "from os import path, listdir\n",
        "import tensorflow as tf\n",
        "from tensorflow.keras.models import Sequential\n",
        "from tensorflow.keras import layers\n",
        "from tensorflow.keras.applications import resnet_v2\n",
        "from tensorflow.keras.preprocessing.image import ImageDataGenerator\n",
        "from sklearn.model_selection import train_test_split\n",
        "from google.colab import files"
      ]
    },
    {
      "cell_type": "markdown",
      "id": "8a0cbc01-1eeb-4513-862a-abd3acd1d239",
      "metadata": {
        "id": "8a0cbc01-1eeb-4513-862a-abd3acd1d239"
      },
      "source": [
        "### Defines reusable constants"
      ]
    },
    {
      "cell_type": "code",
      "execution_count": null,
      "id": "18f79ffb-291a-4d83-a0d0-3395220a0a5a",
      "metadata": {
        "id": "18f79ffb-291a-4d83-a0d0-3395220a0a5a"
      },
      "outputs": [],
      "source": [
        "# Data files: \n",
        "# Google drive: https://drive.google.com/file/d/1x5XrLOEhiwNO_hJLMFbfdrPQDEymki5z/view\n",
        "# Download the above data files from our google drive \n",
        "# to your google drive or local computer and update the below paths accordingly\n",
        "\n",
        "project_folder = '/content/drive/MyDrive/ML_Projects/Ships'\n",
        "data_dir = path.join(project_folder, 'data')\n",
        "models_path =path.join(project_folder, 'models')\n",
        "models_dir = path.join(models_path, \"base\")\n",
        "train_csv_path = path.join(data_dir, 'train.csv')\n",
        "test_csv_path = path.join(data_dir, 'test.csv')\n",
        "label_col = 'category_name'\n",
        "category_id_col = \"category\"\n",
        "image_names_col = 'image'\n",
        "images_dir = path.join(data_dir, \"images\")\n",
        "imgy = imgx = 128\n",
        "submission_csv_path = path.join(data_dir, 'submission.csv')\n",
        "categories_name_to_id = {'Cargo': 1,  'Military': 2,  'Carrier': 3, 'Cruise': 4, 'Tankers': 5}\n",
        "categories_id_to_name = { value:key for key,value in categories_name_to_id.items()}"
      ]
    },
    {
      "cell_type": "markdown",
      "id": "u99lkGs6bPcS",
      "metadata": {
        "id": "u99lkGs6bPcS"
      },
      "source": [
        "Define common functions"
      ]
    },
    {
      "cell_type": "code",
      "execution_count": null,
      "id": "71b0f60f-e709-4932-958f-e90f930771ed",
      "metadata": {
        "id": "71b0f60f-e709-4932-958f-e90f930771ed"
      },
      "outputs": [],
      "source": [
        "from keras_preprocessing.image import dataframe_iterator\n",
        "def get_image_id(img_name):\n",
        "    return int(img_name[:-4])\n",
        "\n",
        "def get_image(img_name):\n",
        "    img_path = path.join(images_dir, img_name)\n",
        "    return Image.open(img_path)\n",
        "\n",
        "# Shows a randomly selected images from data\n",
        "def showImages(df, n=1):\n",
        "    cols = 5\n",
        "    rows = max(1, n//cols)\n",
        "    sample = df.sample(n=n).reset_index(drop=True)\n",
        "    for idx, row in sample.iterrows():\n",
        "      img = get_image(row[image_names_col])\n",
        "      plt.subplot(rows, cols, idx+1)\n",
        "      plt.title(row[label_col])\n",
        "      plt.imshow(img)\n",
        "    plt.figure(figsize=(10, 20))\n",
        "    plt.show()\n",
        "\n",
        "# Creates tensorflow data generator for images\n",
        "def create_image_generator(df, shuffle=False, class_mode=\"categorical\", batch_size=32):\n",
        "    dataframe_iterator = (ImageDataGenerator().\n",
        "                          flow_from_dataframe(df, images_dir, x_col=image_names_col,\n",
        "                                              y_col=label_col, batch_size=batch_size, \n",
        "                                              class_mode=class_mode, shuffle=shuffle,\n",
        "                                              target_size=(imgy, imgx), validate_filenames=False\n",
        "                                              )\n",
        "    )\n",
        "    return dataframe_iterator"
      ]
    },
    {
      "cell_type": "markdown",
      "id": "f252b070-3d27-46c2-ba53-19efb38a1225",
      "metadata": {
        "id": "f252b070-3d27-46c2-ba53-19efb38a1225"
      },
      "source": [
        "### Load data"
      ]
    },
    {
      "cell_type": "code",
      "execution_count": null,
      "id": "16cf4fc2-4e03-43c1-a63a-a933a657d232",
      "metadata": {
        "id": "16cf4fc2-4e03-43c1-a63a-a933a657d232",
        "colab": {
          "base_uri": "https://localhost:8080/",
          "height": 206
        },
        "outputId": "71250912-f3f9-49e2-e958-98dc1cec5eaf"
      },
      "outputs": [
        {
          "output_type": "execute_result",
          "data": {
            "text/html": [
              "<div>\n",
              "<style scoped>\n",
              "    .dataframe tbody tr th:only-of-type {\n",
              "        vertical-align: middle;\n",
              "    }\n",
              "\n",
              "    .dataframe tbody tr th {\n",
              "        vertical-align: top;\n",
              "    }\n",
              "\n",
              "    .dataframe thead th {\n",
              "        text-align: right;\n",
              "    }\n",
              "</style>\n",
              "<table border=\"1\" class=\"dataframe\">\n",
              "  <thead>\n",
              "    <tr style=\"text-align: right;\">\n",
              "      <th></th>\n",
              "      <th>image</th>\n",
              "      <th>category</th>\n",
              "      <th>category_name</th>\n",
              "    </tr>\n",
              "  </thead>\n",
              "  <tbody>\n",
              "    <tr>\n",
              "      <th>0</th>\n",
              "      <td>2823080.jpg</td>\n",
              "      <td>1</td>\n",
              "      <td>Cargo</td>\n",
              "    </tr>\n",
              "    <tr>\n",
              "      <th>1</th>\n",
              "      <td>2870024.jpg</td>\n",
              "      <td>1</td>\n",
              "      <td>Cargo</td>\n",
              "    </tr>\n",
              "    <tr>\n",
              "      <th>2</th>\n",
              "      <td>2662125.jpg</td>\n",
              "      <td>2</td>\n",
              "      <td>Military</td>\n",
              "    </tr>\n",
              "    <tr>\n",
              "      <th>3</th>\n",
              "      <td>2900420.jpg</td>\n",
              "      <td>3</td>\n",
              "      <td>Carrier</td>\n",
              "    </tr>\n",
              "    <tr>\n",
              "      <th>4</th>\n",
              "      <td>2804883.jpg</td>\n",
              "      <td>2</td>\n",
              "      <td>Military</td>\n",
              "    </tr>\n",
              "  </tbody>\n",
              "</table>\n",
              "</div>"
            ],
            "text/plain": [
              "         image  category category_name\n",
              "0  2823080.jpg         1         Cargo\n",
              "1  2870024.jpg         1         Cargo\n",
              "2  2662125.jpg         2      Military\n",
              "3  2900420.jpg         3       Carrier\n",
              "4  2804883.jpg         2      Military"
            ]
          },
          "metadata": {},
          "execution_count": 5
        }
      ],
      "source": [
        "train_df = pd.read_csv(train_csv_path)\n",
        "train_df[label_col] = train_df[category_id_col].map(categories_id_to_name)\n",
        "test_df = pd.read_csv(test_csv_path)\n",
        "train_df.head()"
      ]
    },
    {
      "cell_type": "code",
      "source": [
        "showImages(train_df, n=5)"
      ],
      "metadata": {
        "colab": {
          "base_uri": "https://localhost:8080/",
          "height": 124
        },
        "id": "YWxBhJirqQyr",
        "outputId": "a21b1a00-fd48-479f-abf5-5929f8de7f74"
      },
      "id": "YWxBhJirqQyr",
      "execution_count": null,
      "outputs": [
        {
          "output_type": "display_data",
          "data": {
            "image/png": "[encoded data removed]",
            "text/plain": [
              "<Figure size 432x288 with 5 Axes>"
            ]
          },
          "metadata": {
            "needs_background": "light"
          }
        },
        {
          "output_type": "display_data",
          "data": {
            "text/plain": [
              "<Figure size 720x1440 with 0 Axes>"
            ]
          },
          "metadata": {}
        }
      ]
    },
    {
      "cell_type": "markdown",
      "id": "2a3a1a38-761b-473d-a917-a223fab1b3e8",
      "metadata": {
        "id": "2a3a1a38-761b-473d-a917-a223fab1b3e8"
      },
      "source": [
        "### Prepare datasets for training and validation"
      ]
    },
    {
      "cell_type": "code",
      "execution_count": null,
      "id": "4cd6166d-071b-40f0-9426-18dea7dbd83c",
      "metadata": {
        "id": "4cd6166d-071b-40f0-9426-18dea7dbd83c",
        "colab": {
          "base_uri": "https://localhost:8080/"
        },
        "outputId": "0e55a48f-0020-4e32-e21c-705c2daf76bc"
      },
      "outputs": [
        {
          "output_type": "stream",
          "name": "stdout",
          "text": [
            "Found 5001 non-validated image filenames belonging to 5 classes.\n",
            "Found 1251 non-validated image filenames belonging to 5 classes.\n",
            "Found 2680 non-validated image filenames.\n",
            "model_category_indices: {'Cargo': 0, 'Carrier': 1, 'Cruise': 2, 'Military': 3, 'Tankers': 4} \n",
            " model_category_id_to_name: {0: 'Cargo', 1: 'Carrier', 2: 'Cruise', 3: 'Military', 4: 'Tankers'}\n"
          ]
        }
      ],
      "source": [
        "train_data, val_data = train_test_split(train_df, test_size=0.2)\n",
        "train_gen = create_image_generator(train_data, shuffle=True)\n",
        "val_gen = create_image_generator(val_data)\n",
        "test_gen = create_image_generator(test_df, class_mode=None)\n",
        "model_category_indices = train_gen.class_indices\n",
        "model_category_id_to_name = { value:key for key, value in model_category_indices.items()}\n",
        "print(\"model_category_indices:\", model_category_indices, \"\\n\\n\", \"model_category_id_to_name:\", model_category_id_to_name)"
      ]
    },
    {
      "cell_type": "markdown",
      "id": "b52dd1fc-b09d-4bd8-be6d-7b54a75804d5",
      "metadata": {
        "id": "b52dd1fc-b09d-4bd8-be6d-7b54a75804d5"
      },
      "source": [
        "### Training deep neaural network using Tensorflow"
      ]
    },
    {
      "cell_type": "markdown",
      "id": "JL4feRv_bp2b",
      "metadata": {
        "id": "JL4feRv_bp2b"
      },
      "source": [
        "**Transfer learning**: We are using ResNet model for image classification.\n",
        "1. In 1st phase, we train our model by freezing keeping pre_trained_model (i.e setting trainable=False)\n",
        "1. In 2nd phase, we train our model by unfreezing keeping pre_trained_model (i.e setting trainable=True) but with very small learning_rate"
      ]
    },
    {
      "cell_type": "code",
      "execution_count": null,
      "id": "aa2b2db3-253b-47ed-b05a-d6e55a6b5996",
      "metadata": {
        "id": "aa2b2db3-253b-47ed-b05a-d6e55a6b5996"
      },
      "outputs": [],
      "source": [
        "def create_model(trainable=False):\n",
        "    pre_trained_model = resnet_v2.ResNet50V2(include_top=False, pooling='max', weights='imagenet', input_shape=(imgy, imgx, 3))\n",
        "    input = tf.keras.Input(shape=(imgy, imgx, 3))\n",
        "    output = resnet_v2.preprocess_input(input)\n",
        "    output = pre_trained_model(output, training=False)\n",
        "    output = layers.Dropout(0.2)(output)\n",
        "    output = layers.Dense(5, activation=\"softmax\")(output)\n",
        "    pre_trained_model.trainable=trainable\n",
        "    model = tf.keras.Model(input, output)\n",
        "    return model\n",
        "\n",
        "def compile_and_fit(model, train_gen, val_gen, model_path, learning_rate, epochs=5, patience=3):\n",
        "    early_stopping = tf.keras.callbacks.EarlyStopping(monitor='val_loss', patience=patience, mode='min')\n",
        "    reduce_lr = tf.keras.callbacks.ReduceLROnPlateau( monitor='val_loss', factor=0.1, patience=patience,\n",
        "                                                     mode='min', min_delta=0.0001, cooldown=0, min_lr=min(0.0001, learning_rate))\n",
        "    model_checkpoint_callback = tf.keras.callbacks.ModelCheckpoint(filepath=model_path, monitor='val_loss',\n",
        "                                                                   mode='min', save_weights_only=True,\n",
        "                                                                   save_best_only=True)\n",
        "\n",
        "    model.compile(loss=tf.keras.losses.BinaryCrossentropy(), metrics=['accuracy'], \n",
        "                  optimizer=tf.keras.optimizers.Adam(learning_rate=learning_rate))\n",
        "    return model.fit(train_gen, epochs=epochs, validation_data=val_gen,\n",
        "                      callbacks=[early_stopping, model_checkpoint_callback, reduce_lr])\n"
      ]
    },
    {
      "cell_type": "markdown",
      "source": [
        "Fast learning phase by freezing the pre-trained-model"
      ],
      "metadata": {
        "id": "fYQknCgdEZ-g"
      },
      "id": "fYQknCgdEZ-g"
    },
    {
      "cell_type": "code",
      "execution_count": null,
      "id": "0da91eae-f124-49f2-bd87-c58c858ef2b2",
      "metadata": {
        "colab": {
          "base_uri": "https://localhost:8080/"
        },
        "id": "0da91eae-f124-49f2-bd87-c58c858ef2b2",
        "outputId": "f81635f2-0d15-4771-b0a8-e6461ac400cc"
      },
      "outputs": [
        {
          "output_type": "stream",
          "name": "stdout",
          "text": [
            "Model: \"model\"\n",
            "_________________________________________________________________\n",
            " Layer (type)                Output Shape              Param #   \n",
            "=================================================================\n",
            " input_2 (InputLayer)        [(None, 128, 128, 3)]     0         \n",
            "                                                                 \n",
            " tf.math.truediv (TFOpLambda  (None, 128, 128, 3)      0         \n",
            " )                                                               \n",
            "                                                                 \n",
            " tf.math.subtract (TFOpLambd  (None, 128, 128, 3)      0         \n",
            " a)                                                              \n",
            "                                                                 \n",
            " resnet50v2 (Functional)     (None, 2048)              23564800  \n",
            "                                                                 \n",
            " dropout (Dropout)           (None, 2048)              0         \n",
            "                                                                 \n",
            " dense (Dense)               (None, 5)                 10245     \n",
            "                                                                 \n",
            "=================================================================\n",
            "Total params: 23,575,045\n",
            "Trainable params: 10,245\n",
            "Non-trainable params: 23,564,800\n",
            "_________________________________________________________________\n",
            "None\n",
            "Epoch 1/10\n",
            "157/157 [==============================] - 307s 2s/step - loss: 1.9088 - accuracy: 0.6737 - val_loss: 1.0750 - val_accuracy: 0.7490 - lr: 0.0100\n",
            "Epoch 2/10\n",
            "157/157 [==============================] - 298s 2s/step - loss: 1.0795 - accuracy: 0.7678 - val_loss: 1.0069 - val_accuracy: 0.7834 - lr: 0.0100\n",
            "Epoch 3/10\n",
            "157/157 [==============================] - 298s 2s/step - loss: 1.1131 - accuracy: 0.7798 - val_loss: 1.3420 - val_accuracy: 0.7322 - lr: 0.0100\n",
            "Epoch 4/10\n",
            "157/157 [==============================] - 298s 2s/step - loss: 1.0128 - accuracy: 0.8040 - val_loss: 1.5571 - val_accuracy: 0.7322 - lr: 0.0100\n",
            "Epoch 5/10\n",
            "157/157 [==============================] - 299s 2s/step - loss: 1.1672 - accuracy: 0.8024 - val_loss: 2.8182 - val_accuracy: 0.7074 - lr: 0.0100\n"
          ]
        },
        {
          "output_type": "execute_result",
          "data": {
            "text/plain": [
              "<keras.callbacks.History at 0x7f518d8ed2d0>"
            ]
          },
          "metadata": {},
          "execution_count": 9
        }
      ],
      "source": [
        "model = create_model()\n",
        "print(model.summary())\n",
        "model_path = path.join(models_dir, \"best\")\n",
        "# model.load_weights(tf.train.latest_checkpoint(models_dir))\n",
        "compile_and_fit(model, train_gen, val_gen, model_path, learning_rate=0.01, epochs=10, patience=3)"
      ]
    },
    {
      "cell_type": "markdown",
      "source": [
        "Slow learning phase by unfreezing the pre-trained model"
      ],
      "metadata": {
        "id": "eSQJ5VTkFfGn"
      },
      "id": "eSQJ5VTkFfGn"
    },
    {
      "cell_type": "code",
      "source": [
        "# Create best model from saved weights\n",
        "best_model = create_model()\n",
        "best_model.load_weights(tf.train.latest_checkpoint(models_dir))\n",
        "model = create_model(trainable=True)\n",
        "model.set_weights(best_model.get_weights())\n",
        "compile_and_fit(model, train_gen, val_gen, model_path, learning_rate=1e-5, epochs=10, patience=3)"
      ],
      "metadata": {
        "colab": {
          "base_uri": "https://localhost:8080/"
        },
        "id": "tA4Jp1RxF7su",
        "outputId": "796df46a-e38d-4f75-b14d-f01dde60c7f3"
      },
      "id": "tA4Jp1RxF7su",
      "execution_count": null,
      "outputs": [
        {
          "output_type": "stream",
          "name": "stdout",
          "text": [
            "Epoch 1/10\n",
            "157/157 [==============================] - 1176s 7s/step - loss: 0.5233 - accuracy: 0.8122 - val_loss: 0.4340 - val_accuracy: 0.7738 - lr: 1.0000e-05\n",
            "Epoch 2/10\n",
            "157/157 [==============================] - 1164s 7s/step - loss: 0.1989 - accuracy: 0.8902 - val_loss: 0.3955 - val_accuracy: 0.8122 - lr: 1.0000e-05\n",
            "Epoch 3/10\n",
            "157/157 [==============================] - 1157s 7s/step - loss: 0.0944 - accuracy: 0.9486 - val_loss: 0.4032 - val_accuracy: 0.7970 - lr: 1.0000e-05\n",
            "Epoch 4/10\n",
            "157/157 [==============================] - 1164s 7s/step - loss: 0.0508 - accuracy: 0.9762 - val_loss: 0.3897 - val_accuracy: 0.8329 - lr: 1.0000e-05\n",
            "Epoch 5/10\n",
            "157/157 [==============================] - 1159s 7s/step - loss: 0.0342 - accuracy: 0.9880 - val_loss: 0.3935 - val_accuracy: 0.8257 - lr: 1.0000e-05\n",
            "Epoch 6/10\n",
            "157/157 [==============================] - 1173s 7s/step - loss: 0.0206 - accuracy: 0.9928 - val_loss: 0.3975 - val_accuracy: 0.8289 - lr: 1.0000e-05\n",
            "Epoch 7/10\n",
            "157/157 [==============================] - 1180s 8s/step - loss: 0.0186 - accuracy: 0.9934 - val_loss: 0.3961 - val_accuracy: 0.8369 - lr: 1.0000e-05\n"
          ]
        },
        {
          "output_type": "execute_result",
          "data": {
            "text/plain": [
              "<keras.callbacks.History at 0x7f51893ba950>"
            ]
          },
          "metadata": {},
          "execution_count": 10
        }
      ]
    },
    {
      "cell_type": "markdown",
      "id": "jb49710c2QX8",
      "metadata": {
        "id": "jb49710c2QX8"
      },
      "source": [
        "#### Check results on test dataset"
      ]
    },
    {
      "cell_type": "code",
      "execution_count": null,
      "id": "2d7ffe84-3479-4298-9b5f-cec0cf378dae",
      "metadata": {
        "id": "2d7ffe84-3479-4298-9b5f-cec0cf378dae",
        "colab": {
          "base_uri": "https://localhost:8080/"
        },
        "outputId": "8487fa81-d509-4856-d7a6-c6599857cc21"
      },
      "outputs": [
        {
          "output_type": "stream",
          "name": "stdout",
          "text": [
            "WARNING:tensorflow:Unresolved object in checkpoint: (root).optimizer\n",
            "WARNING:tensorflow:Unresolved object in checkpoint: (root).optimizer.iter\n",
            "WARNING:tensorflow:Unresolved object in checkpoint: (root).optimizer.beta_1\n",
            "WARNING:tensorflow:Unresolved object in checkpoint: (root).optimizer.beta_2\n",
            "WARNING:tensorflow:Unresolved object in checkpoint: (root).optimizer.decay\n",
            "WARNING:tensorflow:Unresolved object in checkpoint: (root).optimizer.learning_rate\n",
            "WARNING:tensorflow:Unresolved object in checkpoint: (root).optimizer's state 'm' for (root).layer_with_weights-1.kernel\n",
            "WARNING:tensorflow:Unresolved object in checkpoint: (root).optimizer's state 'm' for (root).layer_with_weights-1.bias\n",
            "WARNING:tensorflow:Unresolved object in checkpoint: (root).optimizer's state 'v' for (root).layer_with_weights-1.kernel\n",
            "WARNING:tensorflow:Unresolved object in checkpoint: (root).optimizer's state 'v' for (root).layer_with_weights-1.bias\n",
            "WARNING:tensorflow:A checkpoint was restored (e.g. tf.train.Checkpoint.restore or tf.keras.Model.load_weights) but not all checkpointed values were used. See above for specific issues. Use expect_partial() on the load status object, e.g. tf.train.Checkpoint.restore(...).expect_partial(), to silence these warnings, or use assert_consumed() to make the check explicit. See https://www.tensorflow.org/guide/checkpoint#loading_mechanics for details.\n"
          ]
        }
      ],
      "source": [
        "# Create best model from saved weights\n",
        "best_model = create_model()\n",
        "best_model.load_weights(tf.train.latest_checkpoint(models_dir))\n",
        "test_predictions = best_model.predict(test_gen)\n",
        "test_df[label_col] = pd.Series(np.argmax(test_predictions)).map(model_category_id_to_name)\n",
        "test_df[category_id_col] = test_df[label_col].map(categories_name_to_id)"
      ]
    },
    {
      "cell_type": "code",
      "execution_count": null,
      "id": "72r4h8eXq5Zv",
      "metadata": {
        "id": "72r4h8eXq5Zv"
      },
      "outputs": [],
      "source": [
        "showImages(test_df, n=10)"
      ]
    },
    {
      "cell_type": "markdown",
      "id": "mKMWVNCz462I",
      "metadata": {
        "id": "mKMWVNCz462I"
      },
      "source": [
        "**Create Submission file**"
      ]
    },
    {
      "cell_type": "code",
      "source": [
        "test_df[[image_names_col, category_id_col]].to_csv(submission_csv_path, index=False)\n",
        "files.download(submission_csv_path)"
      ],
      "metadata": {
        "id": "muilCQq_MyZ7",
        "colab": {
          "base_uri": "https://localhost:8080/",
          "height": 17
        },
        "outputId": "966507b3-0215-4508-cf83-3df7af0b043e"
      },
      "id": "muilCQq_MyZ7",
      "execution_count": null,
      "outputs": [
        {
          "data": {
            "application/javascript": [
              "\n",
              "    async function download(id, filename, size) {\n",
              "      if (!google.colab.kernel.accessAllowed) {\n",
              "        return;\n",
              "      }\n",
              "      const div = document.createElement('div');\n",
              "      const label = document.createElement('label');\n",
              "      label.textContent = `Downloading \"${filename}\": `;\n",
              "      div.appendChild(label);\n",
              "      const progress = document.createElement('progress');\n",
              "      progress.max = size;\n",
              "      div.appendChild(progress);\n",
              "      document.body.appendChild(div);\n",
              "\n",
              "      const buffers = [];\n",
              "      let downloaded = 0;\n",
              "\n",
              "      const channel = await google.colab.kernel.comms.open(id);\n",
              "      // Send a message to notify the kernel that we're ready.\n",
              "      channel.send({})\n",
              "\n",
              "      for await (const message of channel.messages) {\n",
              "        // Send a message to notify the kernel that we're ready.\n",
              "        channel.send({})\n",
              "        if (message.buffers) {\n",
              "          for (const buffer of message.buffers) {\n",
              "            buffers.push(buffer);\n",
              "            downloaded += buffer.byteLength;\n",
              "            progress.value = downloaded;\n",
              "          }\n",
              "        }\n",
              "      }\n",
              "      const blob = new Blob(buffers, {type: 'application/binary'});\n",
              "      const a = document.createElement('a');\n",
              "      a.href = window.URL.createObjectURL(blob);\n",
              "      a.download = filename;\n",
              "      div.appendChild(a);\n",
              "      a.click();\n",
              "      div.remove();\n",
              "    }\n",
              "  "
            ],
            "text/plain": [
              "<IPython.core.display.Javascript object>"
            ]
          },
          "metadata": {},
          "output_type": "display_data"
        },
        {
          "data": {
            "application/javascript": [
              "download(\"download_02b469f2-85e1-4e9a-8df6-9abd665de7e1\", \"submission.csv\", 34763)"
            ],
            "text/plain": [
              "<IPython.core.display.Javascript object>"
            ]
          },
          "metadata": {},
          "output_type": "display_data"
        }
      ]
    }
  ],
  "metadata": {
    "colab": {
      "collapsed_sections": [],
      "name": "Ship_classification_using_transfer_learning_V1.ipynb",
      "provenance": []
    },
    "kernelspec": {
      "display_name": "Python 3 (ipykernel)",
      "language": "python",
      "name": "python3"
    },
    "language_info": {
      "codemirror_mode": {
        "name": "ipython",
        "version": 3
      },
      "file_extension": ".py",
      "mimetype": "text/x-python",
      "name": "python",
      "nbconvert_exporter": "python",
      "pygments_lexer": "ipython3",
      "version": "3.9.7"
    }
  },
  "nbformat": 4,
  "nbformat_minor": 5
}